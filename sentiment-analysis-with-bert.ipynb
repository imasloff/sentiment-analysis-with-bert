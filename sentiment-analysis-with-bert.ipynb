{
 "cells": [
  {
   "cell_type": "code",
   "execution_count": 1,
   "id": "ccd054a3",
   "metadata": {
    "_cell_guid": "b1076dfc-b9ad-4769-8c92-a6c4dae69d19",
    "_uuid": "8f2839f25d086af736a60e9eeb907d3b93b6e0e5",
    "execution": {
     "iopub.execute_input": "2023-11-19T08:53:25.876288Z",
     "iopub.status.busy": "2023-11-19T08:53:25.875874Z",
     "iopub.status.idle": "2023-11-19T08:53:42.864272Z",
     "shell.execute_reply": "2023-11-19T08:53:42.863214Z"
    },
    "papermill": {
     "duration": 17.000991,
     "end_time": "2023-11-19T08:53:42.866401",
     "exception": false,
     "start_time": "2023-11-19T08:53:25.865410",
     "status": "completed"
    },
    "tags": []
   },
   "outputs": [
    {
     "name": "stderr",
     "output_type": "stream",
     "text": [
      "/opt/conda/lib/python3.10/site-packages/scipy/__init__.py:146: UserWarning: A NumPy version >=1.16.5 and <1.23.0 is required for this version of SciPy (detected version 1.23.5\n",
      "  warnings.warn(f\"A NumPy version >={np_minversion} and <{np_maxversion}\"\n"
     ]
    },
    {
     "name": "stdout",
     "output_type": "stream",
     "text": [
      "/kaggle/input/sentiment140/training.1600000.processed.noemoticon.csv\n"
     ]
    }
   ],
   "source": [
    "# This Python 3 environment comes with many helpful analytics libraries installed\n",
    "# It is defined by the kaggle/python Docker image: https://github.com/kaggle/docker-python\n",
    "# For example, here's several helpful packages to load\n",
    "\n",
    "import re\n",
    "import time\n",
    "import string\n",
    "import nltk\n",
    "import numpy as np # linear algebra\n",
    "import pandas as pd # data processing, CSV file I/O (e.g. pd.read_csv)\n",
    "import seaborn as sns\n",
    "import tensorflow as tf\n",
    "import matplotlib.pyplot as plt\n",
    "\n",
    "from nltk.corpus import stopwords\n",
    "from nltk.stem import PorterStemmer\n",
    "from tensorflow.keras.metrics import Accuracy, Precision, Recall\n",
    "from transformers import (\n",
    "    BertTokenizer, TFBertForSequenceClassification, pipeline\n",
    ")\n",
    "from sklearn.metrics import confusion_matrix\n",
    "from sklearn.preprocessing import LabelEncoder\n",
    "from sklearn.model_selection import train_test_split\n",
    "\n",
    "from wordcloud import WordCloud\n",
    "\n",
    "# Input data files are available in the read-only \"../input/\" directory\n",
    "# For example, running this (by clicking run or pressing Shift+Enter) will list all files under the input directory\n",
    "\n",
    "import os\n",
    "for dirname, _, filenames in os.walk('/kaggle/input'):\n",
    "    for filename in filenames:\n",
    "        print(os.path.join(dirname, filename))\n",
    "\n",
    "# You can write up to 20GB to the current directory (/kaggle/working/) that gets preserved as output when you create a version using \"Save & Run All\" \n",
    "# You can also write temporary files to /kaggle/temp/, but they won't be saved outside of the current session"
   ]
  },
  {
   "cell_type": "markdown",
   "id": "052f986a",
   "metadata": {
    "papermill": {
     "duration": 0.008102,
     "end_time": "2023-11-19T08:53:42.883190",
     "exception": false,
     "start_time": "2023-11-19T08:53:42.875088",
     "status": "completed"
    },
    "tags": []
   },
   "source": [
    "# Data Preprocessing"
   ]
  },
  {
   "cell_type": "markdown",
   "id": "49a4268d",
   "metadata": {
    "papermill": {
     "duration": 0.007954,
     "end_time": "2023-11-19T08:53:42.899395",
     "exception": false,
     "start_time": "2023-11-19T08:53:42.891441",
     "status": "completed"
    },
    "tags": []
   },
   "source": [
    "Load data"
   ]
  },
  {
   "cell_type": "code",
   "execution_count": 2,
   "id": "33aab0f7",
   "metadata": {
    "execution": {
     "iopub.execute_input": "2023-11-19T08:53:42.916996Z",
     "iopub.status.busy": "2023-11-19T08:53:42.916681Z",
     "iopub.status.idle": "2023-11-19T08:53:49.468760Z",
     "shell.execute_reply": "2023-11-19T08:53:49.467892Z"
    },
    "papermill": {
     "duration": 6.563336,
     "end_time": "2023-11-19T08:53:49.470958",
     "exception": false,
     "start_time": "2023-11-19T08:53:42.907622",
     "status": "completed"
    },
    "tags": []
   },
   "outputs": [
    {
     "data": {
      "text/html": [
       "<div>\n",
       "<style scoped>\n",
       "    .dataframe tbody tr th:only-of-type {\n",
       "        vertical-align: middle;\n",
       "    }\n",
       "\n",
       "    .dataframe tbody tr th {\n",
       "        vertical-align: top;\n",
       "    }\n",
       "\n",
       "    .dataframe thead th {\n",
       "        text-align: right;\n",
       "    }\n",
       "</style>\n",
       "<table border=\"1\" class=\"dataframe\">\n",
       "  <thead>\n",
       "    <tr style=\"text-align: right;\">\n",
       "      <th></th>\n",
       "      <th>target</th>\n",
       "      <th>ids</th>\n",
       "      <th>date</th>\n",
       "      <th>flag</th>\n",
       "      <th>user</th>\n",
       "      <th>text</th>\n",
       "    </tr>\n",
       "  </thead>\n",
       "  <tbody>\n",
       "    <tr>\n",
       "      <th>0</th>\n",
       "      <td>0</td>\n",
       "      <td>1467810369</td>\n",
       "      <td>Mon Apr 06 22:19:45 PDT 2009</td>\n",
       "      <td>NO_QUERY</td>\n",
       "      <td>_TheSpecialOne_</td>\n",
       "      <td>@switchfoot http://twitpic.com/2y1zl - Awww, t...</td>\n",
       "    </tr>\n",
       "    <tr>\n",
       "      <th>1</th>\n",
       "      <td>0</td>\n",
       "      <td>1467810672</td>\n",
       "      <td>Mon Apr 06 22:19:49 PDT 2009</td>\n",
       "      <td>NO_QUERY</td>\n",
       "      <td>scotthamilton</td>\n",
       "      <td>is upset that he can't update his Facebook by ...</td>\n",
       "    </tr>\n",
       "    <tr>\n",
       "      <th>2</th>\n",
       "      <td>0</td>\n",
       "      <td>1467810917</td>\n",
       "      <td>Mon Apr 06 22:19:53 PDT 2009</td>\n",
       "      <td>NO_QUERY</td>\n",
       "      <td>mattycus</td>\n",
       "      <td>@Kenichan I dived many times for the ball. Man...</td>\n",
       "    </tr>\n",
       "    <tr>\n",
       "      <th>3</th>\n",
       "      <td>0</td>\n",
       "      <td>1467811184</td>\n",
       "      <td>Mon Apr 06 22:19:57 PDT 2009</td>\n",
       "      <td>NO_QUERY</td>\n",
       "      <td>ElleCTF</td>\n",
       "      <td>my whole body feels itchy and like its on fire</td>\n",
       "    </tr>\n",
       "    <tr>\n",
       "      <th>4</th>\n",
       "      <td>0</td>\n",
       "      <td>1467811193</td>\n",
       "      <td>Mon Apr 06 22:19:57 PDT 2009</td>\n",
       "      <td>NO_QUERY</td>\n",
       "      <td>Karoli</td>\n",
       "      <td>@nationwideclass no, it's not behaving at all....</td>\n",
       "    </tr>\n",
       "  </tbody>\n",
       "</table>\n",
       "</div>"
      ],
      "text/plain": [
       "   target         ids                          date      flag  \\\n",
       "0       0  1467810369  Mon Apr 06 22:19:45 PDT 2009  NO_QUERY   \n",
       "1       0  1467810672  Mon Apr 06 22:19:49 PDT 2009  NO_QUERY   \n",
       "2       0  1467810917  Mon Apr 06 22:19:53 PDT 2009  NO_QUERY   \n",
       "3       0  1467811184  Mon Apr 06 22:19:57 PDT 2009  NO_QUERY   \n",
       "4       0  1467811193  Mon Apr 06 22:19:57 PDT 2009  NO_QUERY   \n",
       "\n",
       "              user                                               text  \n",
       "0  _TheSpecialOne_  @switchfoot http://twitpic.com/2y1zl - Awww, t...  \n",
       "1    scotthamilton  is upset that he can't update his Facebook by ...  \n",
       "2         mattycus  @Kenichan I dived many times for the ball. Man...  \n",
       "3          ElleCTF    my whole body feels itchy and like its on fire   \n",
       "4           Karoli  @nationwideclass no, it's not behaving at all....  "
      ]
     },
     "execution_count": 2,
     "metadata": {},
     "output_type": "execute_result"
    }
   ],
   "source": [
    "data = pd.read_csv('/kaggle/input/sentiment140/training.1600000.processed.noemoticon.csv', encoding='latin-1', header=None)\n",
    "data.columns = ['target', 'ids', 'date', 'flag', 'user', 'text']\n",
    "data = data.drop_duplicates('text')\n",
    "data.head()"
   ]
  },
  {
   "cell_type": "code",
   "execution_count": 3,
   "id": "5b810d83",
   "metadata": {
    "execution": {
     "iopub.execute_input": "2023-11-19T08:53:49.489663Z",
     "iopub.status.busy": "2023-11-19T08:53:49.489344Z",
     "iopub.status.idle": "2023-11-19T08:53:49.494869Z",
     "shell.execute_reply": "2023-11-19T08:53:49.494019Z"
    },
    "papermill": {
     "duration": 0.016852,
     "end_time": "2023-11-19T08:53:49.496742",
     "exception": false,
     "start_time": "2023-11-19T08:53:49.479890",
     "status": "completed"
    },
    "tags": []
   },
   "outputs": [
    {
     "data": {
      "text/plain": [
       "(1581466, 6)"
      ]
     },
     "execution_count": 3,
     "metadata": {},
     "output_type": "execute_result"
    }
   ],
   "source": [
    "data.shape"
   ]
  },
  {
   "cell_type": "code",
   "execution_count": 4,
   "id": "312d977c",
   "metadata": {
    "execution": {
     "iopub.execute_input": "2023-11-19T08:53:49.515171Z",
     "iopub.status.busy": "2023-11-19T08:53:49.514903Z",
     "iopub.status.idle": "2023-11-19T08:53:49.521242Z",
     "shell.execute_reply": "2023-11-19T08:53:49.520397Z"
    },
    "papermill": {
     "duration": 0.017808,
     "end_time": "2023-11-19T08:53:49.523239",
     "exception": false,
     "start_time": "2023-11-19T08:53:49.505431",
     "status": "completed"
    },
    "tags": []
   },
   "outputs": [
    {
     "data": {
      "text/plain": [
       "target     int64\n",
       "ids        int64\n",
       "date      object\n",
       "flag      object\n",
       "user      object\n",
       "text      object\n",
       "dtype: object"
      ]
     },
     "execution_count": 4,
     "metadata": {},
     "output_type": "execute_result"
    }
   ],
   "source": [
    "data.dtypes"
   ]
  },
  {
   "cell_type": "code",
   "execution_count": 5,
   "id": "04818a2b",
   "metadata": {
    "execution": {
     "iopub.execute_input": "2023-11-19T08:53:49.541951Z",
     "iopub.status.busy": "2023-11-19T08:53:49.541662Z",
     "iopub.status.idle": "2023-11-19T08:53:49.556990Z",
     "shell.execute_reply": "2023-11-19T08:53:49.555995Z"
    },
    "papermill": {
     "duration": 0.026848,
     "end_time": "2023-11-19T08:53:49.558938",
     "exception": false,
     "start_time": "2023-11-19T08:53:49.532090",
     "status": "completed"
    },
    "tags": []
   },
   "outputs": [
    {
     "data": {
      "text/plain": [
       "array([0, 4])"
      ]
     },
     "execution_count": 5,
     "metadata": {},
     "output_type": "execute_result"
    }
   ],
   "source": [
    "data['target'].unique()"
   ]
  },
  {
   "cell_type": "code",
   "execution_count": 6,
   "id": "576e4abf",
   "metadata": {
    "execution": {
     "iopub.execute_input": "2023-11-19T08:53:49.578219Z",
     "iopub.status.busy": "2023-11-19T08:53:49.577942Z",
     "iopub.status.idle": "2023-11-19T08:53:49.662222Z",
     "shell.execute_reply": "2023-11-19T08:53:49.661439Z"
    },
    "papermill": {
     "duration": 0.096621,
     "end_time": "2023-11-19T08:53:49.664530",
     "exception": false,
     "start_time": "2023-11-19T08:53:49.567909",
     "status": "completed"
    },
    "tags": []
   },
   "outputs": [],
   "source": [
    "# Map the target values to positive, negative, and neutral labels\n",
    "le = LabelEncoder()\n",
    "data['sentiment'] = le.fit_transform(data['target'])\n",
    "# Select the relevant columns\n",
    "df = data[['text', 'sentiment']]"
   ]
  },
  {
   "cell_type": "markdown",
   "id": "10b81bb6",
   "metadata": {
    "papermill": {
     "duration": 0.008844,
     "end_time": "2023-11-19T08:53:49.682714",
     "exception": false,
     "start_time": "2023-11-19T08:53:49.673870",
     "status": "completed"
    },
    "tags": []
   },
   "source": [
    "## Sentiment Distribution Visualization"
   ]
  },
  {
   "cell_type": "markdown",
   "id": "b0cfd5e9",
   "metadata": {
    "papermill": {
     "duration": 0.008685,
     "end_time": "2023-11-19T08:53:49.700414",
     "exception": false,
     "start_time": "2023-11-19T08:53:49.691729",
     "status": "completed"
    },
    "tags": []
   },
   "source": [
    "Visualize the distribution of sentiments"
   ]
  },
  {
   "cell_type": "code",
   "execution_count": 7,
   "id": "4c660d15",
   "metadata": {
    "execution": {
     "iopub.execute_input": "2023-11-19T08:53:49.719650Z",
     "iopub.status.busy": "2023-11-19T08:53:49.719306Z",
     "iopub.status.idle": "2023-11-19T08:53:50.028354Z",
     "shell.execute_reply": "2023-11-19T08:53:50.027453Z"
    },
    "papermill": {
     "duration": 0.321059,
     "end_time": "2023-11-19T08:53:50.030390",
     "exception": false,
     "start_time": "2023-11-19T08:53:49.709331",
     "status": "completed"
    },
    "tags": []
   },
   "outputs": [
    {
     "data": {
      "image/png": "[encoded data removed]",
      "text/plain": [
       "<Figure size 600x600 with 1 Axes>"
      ]
     },
     "metadata": {},
     "output_type": "display_data"
    }
   ],
   "source": [
    "plt.figure(figsize=(6, 6))\n",
    "df['sentiment'].value_counts().plot(kind='bar', color=['skyblue', 'salmon', 'lightgreen'])\n",
    "plt.title('Sentiment Distribution')\n",
    "plt.xlabel('Sentiment')\n",
    "plt.ylabel('Count')\n",
    "plt.xticks([0, 1, 2], ['Negative', 'Neutral', 'Positive'])\n",
    "plt.show()"
   ]
  },
  {
   "cell_type": "markdown",
   "id": "bd23041e",
   "metadata": {
    "papermill": {
     "duration": 0.009532,
     "end_time": "2023-11-19T08:53:50.049806",
     "exception": false,
     "start_time": "2023-11-19T08:53:50.040274",
     "status": "completed"
    },
    "tags": []
   },
   "source": [
    "# Text Preprocessing"
   ]
  },
  {
   "cell_type": "code",
   "execution_count": 8,
   "id": "d695fbaf",
   "metadata": {
    "execution": {
     "iopub.execute_input": "2023-11-19T08:53:50.070004Z",
     "iopub.status.busy": "2023-11-19T08:53:50.069705Z",
     "iopub.status.idle": "2023-11-19T08:53:53.446351Z",
     "shell.execute_reply": "2023-11-19T08:53:53.445639Z"
    },
    "papermill": {
     "duration": 3.389238,
     "end_time": "2023-11-19T08:53:53.448370",
     "exception": false,
     "start_time": "2023-11-19T08:53:50.059132",
     "status": "completed"
    },
    "tags": []
   },
   "outputs": [
    {
     "name": "stdout",
     "output_type": "stream",
     "text": [
      "[nltk_data] Downloading package stopwords to /usr/share/nltk_data...\n",
      "[nltk_data]   Package stopwords is already up-to-date!\n"
     ]
    },
    {
     "data": {
      "application/vnd.jupyter.widget-view+json": {
       "model_id": "2118ba7b512a438d800f4c134d64fbd8",
       "version_major": 2,
       "version_minor": 0
      },
      "text/plain": [
       "Downloading vocab.txt:   0%|          | 0.00/232k [00:00<?, ?B/s]"
      ]
     },
     "metadata": {},
     "output_type": "display_data"
    },
    {
     "data": {
      "application/vnd.jupyter.widget-view+json": {
       "model_id": "f3b416c75ab84234894db8b1e2898c3f",
       "version_major": 2,
       "version_minor": 0
      },
      "text/plain": [
       "Downloading tokenizer_config.json:   0%|          | 0.00/28.0 [00:00<?, ?B/s]"
      ]
     },
     "metadata": {},
     "output_type": "display_data"
    },
    {
     "data": {
      "application/vnd.jupyter.widget-view+json": {
       "model_id": "633d29c5ea1d4c85932511a798823c8e",
       "version_major": 2,
       "version_minor": 0
      },
      "text/plain": [
       "Downloading config.json:   0%|          | 0.00/570 [00:00<?, ?B/s]"
      ]
     },
     "metadata": {},
     "output_type": "display_data"
    }
   ],
   "source": [
    "nltk.download('stopwords')\n",
    "STOPWORDS = stopwords.words('english')\n",
    "\n",
    "# Initialize the tokenizer\n",
    "tokenizer = BertTokenizer.from_pretrained('bert-base-uncased')\n",
    "\n",
    "# Function for text cleaning and tokenization\n",
    "def preprocess_text(text):\n",
    "    # Convert to lowercase\n",
    "    text = text.lower()\n",
    "    # Remove URLs\n",
    "    text = re.sub(r'http\\S+|www\\S+|https\\S+', '', text)\n",
    "    # Remove user handles and hashtags\n",
    "    text = re.sub(r'@[A-Za-z0-9]+', '', text)\n",
    "    text = re.sub(r'#', '', text)\n",
    "    # Remove punctuation and special characters\n",
    "    text = text.translate(str.maketrans('', '', string.punctuation))\n",
    "    # Tokenization\n",
    "    words = text.split()\n",
    "    # Remove stopwords\n",
    "    words = [word for word in words if word not in STOPWORDS]\n",
    "    # Stemming\n",
    "    stemmer = PorterStemmer()\n",
    "    words = [stemmer.stem(word) for word in words]\n",
    "    # Join the words back into a single string\n",
    "    cleaned_text = ' '.join(words)\n",
    "    return cleaned_text"
   ]
  },
  {
   "cell_type": "code",
   "execution_count": 9,
   "id": "bfe961f6",
   "metadata": {
    "execution": {
     "iopub.execute_input": "2023-11-19T08:53:53.470235Z",
     "iopub.status.busy": "2023-11-19T08:53:53.469528Z",
     "iopub.status.idle": "2023-11-19T09:01:17.143214Z",
     "shell.execute_reply": "2023-11-19T09:01:17.142168Z"
    },
    "papermill": {
     "duration": 443.686704,
     "end_time": "2023-11-19T09:01:17.145322",
     "exception": false,
     "start_time": "2023-11-19T08:53:53.458618",
     "status": "completed"
    },
    "tags": []
   },
   "outputs": [
    {
     "name": "stderr",
     "output_type": "stream",
     "text": [
      "<timed exec>:2: SettingWithCopyWarning: \n",
      "A value is trying to be set on a copy of a slice from a DataFrame.\n",
      "Try using .loc[row_indexer,col_indexer] = value instead\n",
      "\n",
      "See the caveats in the documentation: https://pandas.pydata.org/pandas-docs/stable/user_guide/indexing.html#returning-a-view-versus-a-copy\n"
     ]
    },
    {
     "name": "stdout",
     "output_type": "stream",
     "text": [
      "CPU times: user 7min 23s, sys: 250 ms, total: 7min 23s\n",
      "Wall time: 7min 23s\n"
     ]
    }
   ],
   "source": [
    "%%time\n",
    "# Preprocess texts\n",
    "df.text = df.text.map(lambda x: preprocess_text(x))\n",
    "# Split the data into training and testing sets\n",
    "train_data, test_data = train_test_split(df, test_size=0.1, random_state=42)\n",
    "train_data, val_data = train_test_split(train_data, test_size=0.2, random_state=42)"
   ]
  },
  {
   "cell_type": "markdown",
   "id": "6e2c717e",
   "metadata": {
    "papermill": {
     "duration": 0.010105,
     "end_time": "2023-11-19T09:01:17.165807",
     "exception": false,
     "start_time": "2023-11-19T09:01:17.155702",
     "status": "completed"
    },
    "tags": []
   },
   "source": [
    "Play with wordclouds a little"
   ]
  },
  {
   "cell_type": "code",
   "execution_count": 10,
   "id": "d5917455",
   "metadata": {
    "execution": {
     "iopub.execute_input": "2023-11-19T09:01:17.187589Z",
     "iopub.status.busy": "2023-11-19T09:01:17.187259Z",
     "iopub.status.idle": "2023-11-19T09:01:17.727545Z",
     "shell.execute_reply": "2023-11-19T09:01:17.726460Z"
    },
    "papermill": {
     "duration": 0.554558,
     "end_time": "2023-11-19T09:01:17.730576",
     "exception": false,
     "start_time": "2023-11-19T09:01:17.176018",
     "status": "completed"
    },
    "tags": []
   },
   "outputs": [
    {
     "data": {
      "image/png": "[encoded data removed]",
      "text/plain": [
       "<Figure size 640x480 with 1 Axes>"
      ]
     },
     "metadata": {},
     "output_type": "display_data"
    },
    {
     "data": {
      "image/png": "[encoded data removed]",
      "text/plain": [
       "<Figure size 640x480 with 1 Axes>"
      ]
     },
     "metadata": {},
     "output_type": "display_data"
    }
   ],
   "source": [
    "# Wordcloud with positive tweets\n",
    "positive_tweets = df['text'][df[\"sentiment\"] == 1]\n",
    "stop_words = [\"https\", \"co\", \"RT\"] + STOPWORDS\n",
    "positive_wordcloud = WordCloud(max_font_size=50, max_words=100, background_color=\"white\", stopwords = stop_words).generate(str(positive_tweets))\n",
    "plt.figure()\n",
    "plt.title(\"Positive Tweets - Wordcloud\")\n",
    "plt.imshow(positive_wordcloud, interpolation=\"bilinear\")\n",
    "plt.axis(\"off\")\n",
    "plt.show()\n",
    " \n",
    "# Wordcloud with negative tweets\n",
    "negative_tweets = df['text'][df[\"sentiment\"] == 0]\n",
    "stop_words = [\"https\", \"co\", \"RT\"] + STOPWORDS\n",
    "negative_wordcloud = WordCloud(max_font_size=50, max_words=100, background_color=\"white\", stopwords = stop_words).generate(str(negative_tweets))\n",
    "plt.figure()\n",
    "plt.title(\"Negative Tweets - Wordcloud\")\n",
    "plt.imshow(negative_wordcloud, interpolation=\"bilinear\")\n",
    "plt.axis(\"off\")\n",
    "plt.show()"
   ]
  },
  {
   "cell_type": "markdown",
   "id": "becf6ba7",
   "metadata": {
    "papermill": {
     "duration": 0.014676,
     "end_time": "2023-11-19T09:01:17.760459",
     "exception": false,
     "start_time": "2023-11-19T09:01:17.745783",
     "status": "completed"
    },
    "tags": []
   },
   "source": [
    "Tokenize the cleaned text"
   ]
  },
  {
   "cell_type": "code",
   "execution_count": 11,
   "id": "3471b545",
   "metadata": {
    "execution": {
     "iopub.execute_input": "2023-11-19T09:01:17.791494Z",
     "iopub.status.busy": "2023-11-19T09:01:17.791166Z",
     "iopub.status.idle": "2023-11-19T09:11:14.989977Z",
     "shell.execute_reply": "2023-11-19T09:11:14.988917Z"
    },
    "papermill": {
     "duration": 597.217535,
     "end_time": "2023-11-19T09:11:14.992621",
     "exception": false,
     "start_time": "2023-11-19T09:01:17.775086",
     "status": "completed"
    },
    "tags": []
   },
   "outputs": [],
   "source": [
    "encoded_train = tokenizer.batch_encode_plus(train_data.text.values,\n",
    "                                            padding=True,\n",
    "                                            truncation=True,\n",
    "                                            add_special_tokens=True,\n",
    "                                            return_attention_mask=True,\n",
    "                                            max_length=64,\n",
    "                                            return_tensors='tf')\n",
    "encoded_test = tokenizer.batch_encode_plus(test_data.text.values,\n",
    "                                           padding=True,\n",
    "                                           truncation=True,\n",
    "                                           add_special_tokens=True,\n",
    "                                           return_attention_mask=True,\n",
    "                                           max_length=64,\n",
    "                                           return_tensors='tf')\n",
    "encoded_val = tokenizer.batch_encode_plus(val_data.text.values,\n",
    "                                           padding=True,\n",
    "                                           truncation=True,\n",
    "                                           add_special_tokens=True,\n",
    "                                           return_attention_mask=True,\n",
    "                                           max_length=64,\n",
    "                                           return_tensors='tf')"
   ]
  },
  {
   "cell_type": "code",
   "execution_count": 12,
   "id": "d4aba028",
   "metadata": {
    "execution": {
     "iopub.execute_input": "2023-11-19T09:11:15.024681Z",
     "iopub.status.busy": "2023-11-19T09:11:15.023969Z",
     "iopub.status.idle": "2023-11-19T09:11:15.031959Z",
     "shell.execute_reply": "2023-11-19T09:11:15.031099Z"
    },
    "papermill": {
     "duration": 0.025753,
     "end_time": "2023-11-19T09:11:15.033827",
     "exception": false,
     "start_time": "2023-11-19T09:11:15.008074",
     "status": "completed"
    },
    "tags": []
   },
   "outputs": [
    {
     "data": {
      "text/plain": [
       "{'input_ids': <tf.Tensor: shape=(1138655, 64), dtype=int32, numpy=\n",
       "array([[  101,  2188,  6904, ...,     0,     0,     0],\n",
       "       [  101,  2215,  2601, ...,     0,     0,     0],\n",
       "       [  101,  2514,  2785, ...,     0,     0,     0],\n",
       "       ...,\n",
       "       [  101, 10047,  2307, ...,     0,     0,     0],\n",
       "       [  101,  2748,  2860, ...,     0,     0,     0],\n",
       "       [  101,  2613,  3669, ...,     0,     0,     0]], dtype=int32)>, 'token_type_ids': <tf.Tensor: shape=(1138655, 64), dtype=int32, numpy=\n",
       "array([[0, 0, 0, ..., 0, 0, 0],\n",
       "       [0, 0, 0, ..., 0, 0, 0],\n",
       "       [0, 0, 0, ..., 0, 0, 0],\n",
       "       ...,\n",
       "       [0, 0, 0, ..., 0, 0, 0],\n",
       "       [0, 0, 0, ..., 0, 0, 0],\n",
       "       [0, 0, 0, ..., 0, 0, 0]], dtype=int32)>, 'attention_mask': <tf.Tensor: shape=(1138655, 64), dtype=int32, numpy=\n",
       "array([[1, 1, 1, ..., 0, 0, 0],\n",
       "       [1, 1, 1, ..., 0, 0, 0],\n",
       "       [1, 1, 1, ..., 0, 0, 0],\n",
       "       ...,\n",
       "       [1, 1, 1, ..., 0, 0, 0],\n",
       "       [1, 1, 1, ..., 0, 0, 0],\n",
       "       [1, 1, 1, ..., 0, 0, 0]], dtype=int32)>}"
      ]
     },
     "execution_count": 12,
     "metadata": {},
     "output_type": "execute_result"
    }
   ],
   "source": [
    "encoded_train"
   ]
  },
  {
   "cell_type": "markdown",
   "id": "7ee2f9b2",
   "metadata": {
    "papermill": {
     "duration": 0.014717,
     "end_time": "2023-11-19T09:11:15.063648",
     "exception": false,
     "start_time": "2023-11-19T09:11:15.048931",
     "status": "completed"
    },
    "tags": []
   },
   "source": [
    "# Feature Engineering and Model Training"
   ]
  },
  {
   "cell_type": "markdown",
   "id": "b28b400d",
   "metadata": {
    "papermill": {
     "duration": 0.014761,
     "end_time": "2023-11-19T09:11:15.093325",
     "exception": false,
     "start_time": "2023-11-19T09:11:15.078564",
     "status": "completed"
    },
    "tags": []
   },
   "source": [
    "Convert the encoded texts to TensorFlow Datasets"
   ]
  },
  {
   "cell_type": "code",
   "execution_count": 13,
   "id": "2d7ce8c7",
   "metadata": {
    "execution": {
     "iopub.execute_input": "2023-11-19T09:11:15.125191Z",
     "iopub.status.busy": "2023-11-19T09:11:15.124338Z",
     "iopub.status.idle": "2023-11-19T09:13:05.893735Z",
     "shell.execute_reply": "2023-11-19T09:13:05.892336Z"
    },
    "papermill": {
     "duration": 110.788444,
     "end_time": "2023-11-19T09:13:05.896633",
     "exception": false,
     "start_time": "2023-11-19T09:11:15.108189",
     "status": "completed"
    },
    "tags": []
   },
   "outputs": [],
   "source": [
    "train_dataset = tf.data.Dataset.from_tensor_slices((\n",
    "    {'input_ids': list(encoded_train['input_ids'].numpy()),\n",
    "     'attention_mask': list(encoded_train['attention_mask'].numpy())},\n",
    "    train_data.sentiment.values\n",
    "))\n",
    "test_dataset = tf.data.Dataset.from_tensor_slices((\n",
    "    {'input_ids': list(encoded_test['input_ids'].numpy()),\n",
    "     'attention_mask': list(encoded_test['attention_mask'].numpy())},\n",
    "    test_data.sentiment.values\n",
    "))\n",
    "val_dataset = tf.data.Dataset.from_tensor_slices((\n",
    "    {'input_ids': list(encoded_val['input_ids'].numpy()),\n",
    "     'attention_mask': list(encoded_val['attention_mask'].numpy())},\n",
    "    val_data.sentiment.values\n",
    "))"
   ]
  },
  {
   "cell_type": "code",
   "execution_count": 14,
   "id": "2ae6eea4",
   "metadata": {
    "execution": {
     "iopub.execute_input": "2023-11-19T09:13:05.930146Z",
     "iopub.status.busy": "2023-11-19T09:13:05.929795Z",
     "iopub.status.idle": "2023-11-19T09:13:05.955735Z",
     "shell.execute_reply": "2023-11-19T09:13:05.954756Z"
    },
    "papermill": {
     "duration": 0.044916,
     "end_time": "2023-11-19T09:13:05.957788",
     "exception": false,
     "start_time": "2023-11-19T09:13:05.912872",
     "status": "completed"
    },
    "tags": []
   },
   "outputs": [
    {
     "data": {
      "text/plain": [
       "<CacheDataset element_spec=({'input_ids': TensorSpec(shape=(None, 64), dtype=tf.int32, name=None), 'attention_mask': TensorSpec(shape=(None, 64), dtype=tf.int32, name=None)}, TensorSpec(shape=(None,), dtype=tf.int64, name=None))>"
      ]
     },
     "execution_count": 14,
     "metadata": {},
     "output_type": "execute_result"
    }
   ],
   "source": [
    "batch_size = 128\n",
    "train_dataset = train_dataset.shuffle(1000)\n",
    "train_dataset = train_dataset.batch(batch_size)\n",
    "train_dataset = train_dataset.prefetch(tf.data.AUTOTUNE)\n",
    "train_dataset = train_dataset.cache()\n",
    "train_dataset"
   ]
  },
  {
   "cell_type": "code",
   "execution_count": 15,
   "id": "8658fe03",
   "metadata": {
    "execution": {
     "iopub.execute_input": "2023-11-19T09:13:05.990754Z",
     "iopub.status.busy": "2023-11-19T09:13:05.990395Z",
     "iopub.status.idle": "2023-11-19T18:18:56.291299Z",
     "shell.execute_reply": "2023-11-19T18:18:56.290360Z"
    },
    "papermill": {
     "duration": 32750.319642,
     "end_time": "2023-11-19T18:18:56.293303",
     "exception": false,
     "start_time": "2023-11-19T09:13:05.973661",
     "status": "completed"
    },
    "tags": []
   },
   "outputs": [
    {
     "data": {
      "application/vnd.jupyter.widget-view+json": {
       "model_id": "19a1c4ff34f34006ab1ab0e761908afc",
       "version_major": 2,
       "version_minor": 0
      },
      "text/plain": [
       "Downloading model.safetensors:   0%|          | 0.00/440M [00:00<?, ?B/s]"
      ]
     },
     "metadata": {},
     "output_type": "display_data"
    },
    {
     "name": "stderr",
     "output_type": "stream",
     "text": [
      "All PyTorch model weights were used when initializing TFBertForSequenceClassification.\n",
      "\n",
      "Some weights or buffers of the TF 2.0 model TFBertForSequenceClassification were not initialized from the PyTorch model and are newly initialized: ['classifier.weight', 'classifier.bias']\n",
      "You should probably TRAIN this model on a down-stream task to be able to use it for predictions and inference.\n"
     ]
    },
    {
     "name": "stdout",
     "output_type": "stream",
     "text": [
      "Epoch 1/4\n",
      "8896/8896 [==============================] - 8224s 919ms/step - loss: 0.4373 - accuracy: 0.7955 - val_loss: 0.4134 - val_accuracy: 0.8101\n",
      "Epoch 2/4\n",
      "8896/8896 [==============================] - 8168s 918ms/step - loss: 0.3849 - accuracy: 0.8258 - val_loss: 0.4146 - val_accuracy: 0.8125\n",
      "Epoch 3/4\n",
      "8896/8896 [==============================] - 8167s 918ms/step - loss: 0.3339 - accuracy: 0.8533 - val_loss: 0.4335 - val_accuracy: 0.8083\n",
      "Epoch 4/4\n",
      "8896/8896 [==============================] - 8166s 918ms/step - loss: 0.2818 - accuracy: 0.8797 - val_loss: 0.4693 - val_accuracy: 0.8034\n"
     ]
    },
    {
     "data": {
      "text/plain": [
       "<keras.callbacks.History at 0x7e94716fc970>"
      ]
     },
     "execution_count": 15,
     "metadata": {},
     "output_type": "execute_result"
    }
   ],
   "source": [
    "# Initialize the BERT model for sequence classification\n",
    "model = TFBertForSequenceClassification.from_pretrained('bert-base-uncased')\n",
    "\n",
    "# Compile the model\n",
    "optimizer = tf.keras.optimizers.Adam(learning_rate=3e-5)\n",
    "loss = tf.keras.losses.SparseCategoricalCrossentropy(from_logits=True)\n",
    "model.compile(optimizer=optimizer, loss=loss, metrics=['accuracy'])\n",
    "\n",
    "# Train the model\n",
    "model.fit(train_dataset, epochs=4, batch_size=batch_size, validation_data=val_dataset.batch(batch_size))"
   ]
  },
  {
   "cell_type": "markdown",
   "id": "6bf0522e",
   "metadata": {
    "papermill": {
     "duration": 2.825969,
     "end_time": "2023-11-19T18:19:02.054979",
     "exception": false,
     "start_time": "2023-11-19T18:18:59.229010",
     "status": "completed"
    },
    "tags": []
   },
   "source": [
    "# Model Evaluation"
   ]
  },
  {
   "cell_type": "code",
   "execution_count": 16,
   "id": "cbb4a126",
   "metadata": {
    "execution": {
     "iopub.execute_input": "2023-11-19T18:19:07.964010Z",
     "iopub.status.busy": "2023-11-19T18:19:07.963161Z",
     "iopub.status.idle": "2023-11-19T18:25:03.648803Z",
     "shell.execute_reply": "2023-11-19T18:25:03.647974Z"
    },
    "papermill": {
     "duration": 358.657752,
     "end_time": "2023-11-19T18:25:03.651120",
     "exception": false,
     "start_time": "2023-11-19T18:19:04.993368",
     "status": "completed"
    },
    "tags": []
   },
   "outputs": [
    {
     "name": "stdout",
     "output_type": "stream",
     "text": [
      "1236/1236 [==============================] - 355s 285ms/step\n"
     ]
    }
   ],
   "source": [
    "y_true = test_data.sentiment.values\n",
    "y_pred = model.predict(test_dataset.batch(batch_size))"
   ]
  },
  {
   "cell_type": "code",
   "execution_count": 17,
   "id": "086c2d2f",
   "metadata": {
    "execution": {
     "iopub.execute_input": "2023-11-19T18:25:09.539654Z",
     "iopub.status.busy": "2023-11-19T18:25:09.539275Z",
     "iopub.status.idle": "2023-11-19T18:25:09.752071Z",
     "shell.execute_reply": "2023-11-19T18:25:09.751147Z"
    },
    "papermill": {
     "duration": 3.226018,
     "end_time": "2023-11-19T18:25:09.754027",
     "exception": false,
     "start_time": "2023-11-19T18:25:06.528009",
     "status": "completed"
    },
    "tags": []
   },
   "outputs": [
    {
     "data": {
      "image/png": "[encoded data removed]",
      "text/plain": [
       "<Figure size 600x600 with 1 Axes>"
      ]
     },
     "metadata": {},
     "output_type": "display_data"
    }
   ],
   "source": [
    "# Create a confusion matrix\n",
    "cm = confusion_matrix(y_true, tf.argmax(y_pred.logits, 1))\n",
    "\n",
    "# Visualize the confusion matrix\n",
    "plt.figure(figsize=(6, 6))\n",
    "sns.heatmap(cm, annot=True, fmt='d', cmap='Blues', cbar=False, annot_kws={\"size\": 15})\n",
    "plt.xlabel('Predicted Labels')\n",
    "plt.ylabel('True Labels')\n",
    "plt.title('Confusion Matrix')\n",
    "plt.show()"
   ]
  },
  {
   "cell_type": "code",
   "execution_count": 18,
   "id": "74983964",
   "metadata": {
    "execution": {
     "iopub.execute_input": "2023-11-19T18:25:15.770474Z",
     "iopub.status.busy": "2023-11-19T18:25:15.769641Z",
     "iopub.status.idle": "2023-11-19T18:31:09.090824Z",
     "shell.execute_reply": "2023-11-19T18:31:09.089932Z"
    },
    "papermill": {
     "duration": 359.308858,
     "end_time": "2023-11-19T18:31:12.147817",
     "exception": false,
     "start_time": "2023-11-19T18:25:12.838959",
     "status": "completed"
    },
    "tags": []
   },
   "outputs": [
    {
     "name": "stdout",
     "output_type": "stream",
     "text": [
      "1236/1236 - 353s - loss: 0.4695 - accuracy: 0.8032 - 353s/epoch - 286ms/step\n"
     ]
    },
    {
     "data": {
      "text/plain": [
       "[0.4694865942001343, 0.8032210469245911]"
      ]
     },
     "execution_count": 18,
     "metadata": {},
     "output_type": "execute_result"
    }
   ],
   "source": [
    "# Evaluate the model\n",
    "model.evaluate(test_dataset.batch(batch_size), verbose=2)"
   ]
  },
  {
   "cell_type": "markdown",
   "id": "f85278e2",
   "metadata": {
    "papermill": {
     "duration": 3.047655,
     "end_time": "2023-11-19T18:31:18.090818",
     "exception": false,
     "start_time": "2023-11-19T18:31:15.043163",
     "status": "completed"
    },
    "tags": []
   },
   "source": [
    "# Model Testing"
   ]
  },
  {
   "cell_type": "markdown",
   "id": "96e022fd",
   "metadata": {
    "papermill": {
     "duration": 2.897294,
     "end_time": "2023-11-19T18:31:24.032217",
     "exception": false,
     "start_time": "2023-11-19T18:31:21.134923",
     "status": "completed"
    },
    "tags": []
   },
   "source": [
    "See the results"
   ]
  },
  {
   "cell_type": "code",
   "execution_count": 19,
   "id": "a179efc3",
   "metadata": {
    "execution": {
     "iopub.execute_input": "2023-11-19T18:31:29.960018Z",
     "iopub.status.busy": "2023-11-19T18:31:29.959643Z",
     "iopub.status.idle": "2023-11-19T18:31:32.869810Z",
     "shell.execute_reply": "2023-11-19T18:31:32.868651Z"
    },
    "papermill": {
     "duration": 5.819957,
     "end_time": "2023-11-19T18:31:32.871717",
     "exception": false,
     "start_time": "2023-11-19T18:31:27.051760",
     "status": "completed"
    },
    "tags": []
   },
   "outputs": [
    {
     "name": "stdout",
     "output_type": "stream",
     "text": [
      "1/1 [==============================] - 3s 3s/step\n",
      "TFSequenceClassifierOutput(loss=None, logits=array([[-3.0128825,  2.3210728],\n",
      "       [-2.3689568,  1.7498071],\n",
      "       [-3.1868198,  2.7821133],\n",
      "       [-3.1621158,  2.4334376],\n",
      "       [-2.5024412,  1.918543 ],\n",
      "       [-3.2165554,  2.643401 ],\n",
      "       [-2.406156 ,  1.9004122],\n",
      "       [-1.7443664,  1.7746303],\n",
      "       [-2.2945254,  2.1517782],\n",
      "       [-3.2217124,  2.5091138],\n",
      "       [ 1.8257943, -1.8353056],\n",
      "       [ 2.0742805, -2.0370996],\n",
      "       [ 1.6212825, -1.7024682],\n",
      "       [ 1.9781362, -1.9191569],\n",
      "       [ 1.4296303, -1.3494357],\n",
      "       [ 3.0553052, -2.5529926],\n",
      "       [ 3.1194499, -2.7845252],\n",
      "       [ 3.196981 , -2.698714 ],\n",
      "       [ 3.070371 , -2.8364363],\n",
      "       [ 1.8171433, -1.7147931]], dtype=float32), hidden_states=None, attentions=None)\n"
     ]
    }
   ],
   "source": [
    "positive_tweets = [\n",
    "    \"Just had the best day ever! #FeelingBlessed 😊\",\n",
    "    \"Celebrating success with my amazing team! 🎉 #TeamWork\",\n",
    "    \"Enjoying a beautiful sunset at the beach. Life is good! 🌅 #Grateful\",\n",
    "    \"This new song is my jam! 🎶 #MusicLover\",\n",
    "    \"Excited for the weekend getaway with friends! 🚗 #WeekendVibes\",\n",
    "    \"Achieved a major milestone today. Hard work pays off! 💪 #Success\",\n",
    "    \"The support from my friends and family means everything to me. ❤️ #Love\",\n",
    "    \"Positive vibes only! ✨ #Positivity\",\n",
    "    \"Loving the positive energy around me. 😄 #GoodVibes\",\n",
    "    \"Movie night with loved ones. Perfect way to relax! 🍿 #FamilyTime\"\n",
    "]\n",
    "\n",
    "negative_tweets = [\n",
    "    \"Feeling so stressed out with work deadlines. 😓 #Stressed\",\n",
    "    \"Everything seems to be going wrong today. 😞 #BadDay\",\n",
    "    \"Dealing with a major setback. Can't catch a break. 😔 #Struggle\",\n",
    "    \"This weather is ruining my plans. ☔ #WeatherWoes\",\n",
    "    \"Stuck in traffic again. Just what I needed. 🚗 #TrafficJam\",\n",
    "    \"Can't believe I lost my wallet. What a disaster! 😫 #LostAndFound\",\n",
    "    \"Frustrated with technology. Nothing is working as it should. 🤬 #TechIssues\",\n",
    "    \"Not feeling well today. 😷 #SickDay\",\n",
    "    \"Relationship troubles are taking a toll on my mood. 💔 #Heartache\",\n",
    "    \"Why does Monday have to come so quickly? 😩 #MondayBlues\",\n",
    "]\n",
    "\n",
    "sample_texts = list(map(preprocess_text, positive_tweets)) + list(map(preprocess_text, negative_tweets))\n",
    "sample_encodings = tokenizer.batch_encode_plus(sample_texts,\n",
    "                                            padding=True,\n",
    "                                            truncation=True,\n",
    "                                            add_special_tokens=True,\n",
    "                                            return_attention_mask=True,\n",
    "                                            max_length=64,\n",
    "                                            return_tensors='tf')\n",
    "sample_dataset = tf.data.Dataset.from_tensor_slices((\n",
    "    {'input_ids': list(sample_encodings['input_ids'].numpy()),\n",
    "     'attention_mask': list(sample_encodings['attention_mask'].numpy())}\n",
    "))\n",
    "predictions = model.predict(sample_dataset.batch(batch_size))\n",
    "print(predictions)"
   ]
  },
  {
   "cell_type": "markdown",
   "id": "87cf07e1",
   "metadata": {
    "papermill": {
     "duration": 2.863241,
     "end_time": "2023-11-19T18:31:38.744128",
     "exception": false,
     "start_time": "2023-11-19T18:31:35.880887",
     "status": "completed"
    },
    "tags": []
   },
   "source": [
    "Display the predicted sentiments"
   ]
  },
  {
   "cell_type": "code",
   "execution_count": 20,
   "id": "4774256e",
   "metadata": {
    "execution": {
     "iopub.execute_input": "2023-11-19T18:31:44.769017Z",
     "iopub.status.busy": "2023-11-19T18:31:44.768368Z",
     "iopub.status.idle": "2023-11-19T18:31:44.775336Z",
     "shell.execute_reply": "2023-11-19T18:31:44.774281Z"
    },
    "papermill": {
     "duration": 3.032743,
     "end_time": "2023-11-19T18:31:44.777666",
     "exception": false,
     "start_time": "2023-11-19T18:31:41.744923",
     "status": "completed"
    },
    "tags": []
   },
   "outputs": [
    {
     "name": "stdout",
     "output_type": "stream",
     "text": [
      "Text: best day ever feelingbless 😊\n",
      "Predicted Sentiment: Positive\n",
      "\n",
      "Text: celebr success amaz team 🎉 teamwork\n",
      "Predicted Sentiment: Positive\n",
      "\n",
      "Text: enjoy beauti sunset beach life good 🌅 grate\n",
      "Predicted Sentiment: Positive\n",
      "\n",
      "Text: new song jam 🎶 musiclov\n",
      "Predicted Sentiment: Positive\n",
      "\n",
      "Text: excit weekend getaway friend 🚗 weekendvib\n",
      "Predicted Sentiment: Positive\n",
      "\n",
      "Text: achiev major mileston today hard work pay 💪 success\n",
      "Predicted Sentiment: Positive\n",
      "\n",
      "Text: support friend famili mean everyth ❤️ love\n",
      "Predicted Sentiment: Positive\n",
      "\n",
      "Text: posit vibe ✨ posit\n",
      "Predicted Sentiment: Positive\n",
      "\n",
      "Text: love posit energi around 😄 goodvib\n",
      "Predicted Sentiment: Positive\n",
      "\n",
      "Text: movi night love one perfect way relax 🍿 familytim\n",
      "Predicted Sentiment: Positive\n",
      "\n",
      "Text: feel stress work deadlin 😓 stress\n",
      "Predicted Sentiment: Negative\n",
      "\n",
      "Text: everyth seem go wrong today 😞 badday\n",
      "Predicted Sentiment: Negative\n",
      "\n",
      "Text: deal major setback cant catch break 😔 struggl\n",
      "Predicted Sentiment: Negative\n",
      "\n",
      "Text: weather ruin plan ☔ weatherwo\n",
      "Predicted Sentiment: Negative\n",
      "\n",
      "Text: stuck traffic need 🚗 trafficjam\n",
      "Predicted Sentiment: Negative\n",
      "\n",
      "Text: cant believ lost wallet disast 😫 lostandfound\n",
      "Predicted Sentiment: Negative\n",
      "\n",
      "Text: frustrat technolog noth work 🤬 techissu\n",
      "Predicted Sentiment: Negative\n",
      "\n",
      "Text: feel well today 😷 sickday\n",
      "Predicted Sentiment: Negative\n",
      "\n",
      "Text: relationship troubl take toll mood 💔 heartach\n",
      "Predicted Sentiment: Negative\n",
      "\n",
      "Text: monday come quickli 😩 mondayblu\n",
      "Predicted Sentiment: Negative\n",
      "\n"
     ]
    }
   ],
   "source": [
    "sentiments = ['Negative', 'Positive']\n",
    "for i in range(len(sample_texts)):\n",
    "    pred_label = np.argmax(predictions.logits[i])\n",
    "    print(f\"Text: {sample_texts[i]}\")\n",
    "    print(f\"Predicted Sentiment: {sentiments[pred_label]}\")\n",
    "    print()"
   ]
  },
  {
   "cell_type": "code",
   "execution_count": null,
   "id": "6b6ef9d1",
   "metadata": {
    "papermill": {
     "duration": 3.010427,
     "end_time": "2023-11-19T18:31:50.699874",
     "exception": false,
     "start_time": "2023-11-19T18:31:47.689447",
     "status": "completed"
    },
    "tags": []
   },
   "outputs": [],
   "source": []
  }
 ],
 "metadata": {
  "kaggle": {
   "accelerator": "gpu",
   "dataSources": [
    {
     "datasetId": 2477,
     "sourceId": 4140,
     "sourceType": "datasetVersion"
    }
   ],
   "dockerImageVersionId": 30558,
   "isGpuEnabled": true,
   "isInternetEnabled": true,
   "language": "python",
   "sourceType": "notebook"
  },
  "kernelspec": {
   "display_name": "Python 3",
   "language": "python",
   "name": "python3"
  },
  "language_info": {
   "codemirror_mode": {
    "name": "ipython",
    "version": 3
   },
   "file_extension": ".py",
   "mimetype": "text/x-python",
   "name": "python",
   "nbconvert_exporter": "python",
   "pygments_lexer": "ipython3",
   "version": "3.10.12"
  },
  "papermill": {
   "default_parameters": {},
   "duration": 34714.587262,
   "end_time": "2023-11-19T18:31:57.127440",
   "environment_variables": {},
   "exception": null,
   "input_path": "__notebook__.ipynb",
   "output_path": "__notebook__.ipynb",
   "parameters": {},
   "start_time": "2023-11-19T08:53:22.540178",
   "version": "2.4.0"
  },
  "widgets": {
   "application/vnd.jupyter.widget-state+json": {
    "state": {
     "022a518dc05d4e5e9ef2b00365899228": {
      "model_module": "@jupyter-widgets/base",
      "model_module_version": "1.2.0",
      "model_name": "LayoutModel",
      "state": {
       "_model_module": "@jupyter-widgets/base",
       "_model_module_version": "1.2.0",
       "_model_name": "LayoutModel",
       "_view_count": null,
       "_view_module": "@jupyter-widgets/base",
       "_view_module_version": "1.2.0",
       "_view_name": "LayoutView",
       "align_content": null,
       "align_items": null,
       "align_self": null,
       "border": null,
       "bottom": null,
       "display": null,
       "flex": null,
       "flex_flow": null,
       "grid_area": null,
       "grid_auto_columns": null,
       "grid_auto_flow": null,
       "grid_auto_rows": null,
       "grid_column": null,
       "grid_gap": null,
       "grid_row": null,
       "grid_template_areas": null,
       "grid_template_columns": null,
       "grid_template_rows": null,
       "height": null,
       "justify_content": null,
       "justify_items": null,
       "left": null,
       "margin": null,
       "max_height": null,
       "max_width": null,
       "min_height": null,
       "min_width": null,
       "object_fit": null,
       "object_position": null,
       "order": null,
       "overflow": null,
       "overflow_x": null,
       "overflow_y": null,
       "padding": null,
       "right": null,
       "top": null,
       "visibility": null,
       "width": null
      }
     },
     "02aaa2819d1e4f49bca28a9c03f49d5f": {
      "model_module": "@jupyter-widgets/base",
      "model_module_version": "1.2.0",
      "model_name": "LayoutModel",
      "state": {
       "_model_module": "@jupyter-widgets/base",
       "_model_module_version": "1.2.0",
       "_model_name": "LayoutModel",
       "_view_count": null,
       "_view_module": "@jupyter-widgets/base",
       "_view_module_version": "1.2.0",
       "_view_name": "LayoutView",
       "align_content": null,
       "align_items": null,
       "align_self": null,
       "border": null,
       "bottom": null,
       "display": null,
       "flex": null,
       "flex_flow": null,
       "grid_area": null,
       "grid_auto_columns": null,
       "grid_auto_flow": null,
       "grid_auto_rows": null,
       "grid_column": null,
       "grid_gap": null,
       "grid_row": null,
       "grid_template_areas": null,
       "grid_template_columns": null,
       "grid_template_rows": null,
       "height": null,
       "justify_content": null,
       "justify_items": null,
       "left": null,
       "margin": null,
       "max_height": null,
       "max_width": null,
       "min_height": null,
       "min_width": null,
       "object_fit": null,
       "object_position": null,
       "order": null,
       "overflow": null,
       "overflow_x": null,
       "overflow_y": null,
       "padding": null,
       "right": null,
       "top": null,
       "visibility": null,
       "width": null
      }
     },
     "0b8f7ffe8f4841599b3304698f1b77f8": {
      "model_module": "@jupyter-widgets/controls",
      "model_module_version": "1.5.0",
      "model_name": "DescriptionStyleModel",
      "state": {
       "_model_module": "@jupyter-widgets/controls",
       "_model_module_version": "1.5.0",
       "_model_name": "DescriptionStyleModel",
       "_view_count": null,
       "_view_module": "@jupyter-widgets/base",
       "_view_module_version": "1.2.0",
       "_view_name": "StyleView",
       "description_width": ""
      }
     },
     "0fb000f248d446029dee7ac7bbaea946": {
      "model_module": "@jupyter-widgets/controls",
      "model_module_version": "1.5.0",
      "model_name": "DescriptionStyleModel",
      "state": {
       "_model_module": "@jupyter-widgets/controls",
       "_model_module_version": "1.5.0",
       "_model_name": "DescriptionStyleModel",
       "_view_count": null,
       "_view_module": "@jupyter-widgets/base",
       "_view_module_version": "1.2.0",
       "_view_name": "StyleView",
       "description_width": ""
      }
     },
     "14e0c8becbc0426c944ed8b582a57c95": {
      "model_module": "@jupyter-widgets/controls",
      "model_module_version": "1.5.0",
      "model_name": "FloatProgressModel",
      "state": {
       "_dom_classes": [],
       "_model_module": "@jupyter-widgets/controls",
       "_model_module_version": "1.5.0",
       "_model_name": "FloatProgressModel",
       "_view_count": null,
       "_view_module": "@jupyter-widgets/controls",
       "_view_module_version": "1.5.0",
       "_view_name": "ProgressView",
       "bar_style": "success",
       "description": "",
       "description_tooltip": null,
       "layout": "IPY_MODEL_f6874955246249fe9f48f5bac816b2b0",
       "max": 28.0,
       "min": 0.0,
       "orientation": "horizontal",
       "style": "IPY_MODEL_fd3cc032618942da915483d21afab790",
       "value": 28.0
      }
     },
     "19a1c4ff34f34006ab1ab0e761908afc": {
      "model_module": "@jupyter-widgets/controls",
      "model_module_version": "1.5.0",
      "model_name": "HBoxModel",
      "state": {
       "_dom_classes": [],
       "_model_module": "@jupyter-widgets/controls",
       "_model_module_version": "1.5.0",
       "_model_name": "HBoxModel",
       "_view_count": null,
       "_view_module": "@jupyter-widgets/controls",
       "_view_module_version": "1.5.0",
       "_view_name": "HBoxView",
       "box_style": "",
       "children": [
        "IPY_MODEL_d4e7a4eb8599401dafc4b8d2951c237a",
        "IPY_MODEL_739b6734bcff4a99b6261f08546586a1",
        "IPY_MODEL_3cc5b47916494db4ba962168de229381"
       ],
       "layout": "IPY_MODEL_c625af2257634e158cb269ca2f700a6a"
      }
     },
     "2118ba7b512a438d800f4c134d64fbd8": {
      "model_module": "@jupyter-widgets/controls",
      "model_module_version": "1.5.0",
      "model_name": "HBoxModel",
      "state": {
       "_dom_classes": [],
       "_model_module": "@jupyter-widgets/controls",
       "_model_module_version": "1.5.0",
       "_model_name": "HBoxModel",
       "_view_count": null,
       "_view_module": "@jupyter-widgets/controls",
       "_view_module_version": "1.5.0",
       "_view_name": "HBoxView",
       "box_style": "",
       "children": [
        "IPY_MODEL_e9920a8ccc2a4e0cb3465372b60a66a9",
        "IPY_MODEL_a995500f73b94b56be21e1996608510a",
        "IPY_MODEL_724c4d61308c47518c35e2372314e004"
       ],
       "layout": "IPY_MODEL_34903157938a43539047b32b74d87f0a"
      }
     },
     "225a4632c3b248d195e7350c97fd86cb": {
      "model_module": "@jupyter-widgets/controls",
      "model_module_version": "1.5.0",
      "model_name": "HTMLModel",
      "state": {
       "_dom_classes": [],
       "_model_module": "@jupyter-widgets/controls",
       "_model_module_version": "1.5.0",
       "_model_name": "HTMLModel",
       "_view_count": null,
       "_view_module": "@jupyter-widgets/controls",
       "_view_module_version": "1.5.0",
       "_view_name": "HTMLView",
       "description": "",
       "description_tooltip": null,
       "layout": "IPY_MODEL_9b4a5021c3e74d818340f3775b9617b6",
       "placeholder": "​",
       "style": "IPY_MODEL_2ba764167b8a46b6b7ce5321763bb5ff",
       "value": " 570/570 [00:00&lt;00:00, 54.0kB/s]"
      }
     },
     "2b5b8624d83f4839a0088321176c8fb0": {
      "model_module": "@jupyter-widgets/base",
      "model_module_version": "1.2.0",
      "model_name": "LayoutModel",
      "state": {
       "_model_module": "@jupyter-widgets/base",
       "_model_module_version": "1.2.0",
       "_model_name": "LayoutModel",
       "_view_count": null,
       "_view_module": "@jupyter-widgets/base",
       "_view_module_version": "1.2.0",
       "_view_name": "LayoutView",
       "align_content": null,
       "align_items": null,
       "align_self": null,
       "border": null,
       "bottom": null,
       "display": null,
       "flex": null,
       "flex_flow": null,
       "grid_area": null,
       "grid_auto_columns": null,
       "grid_auto_flow": null,
       "grid_auto_rows": null,
       "grid_column": null,
       "grid_gap": null,
       "grid_row": null,
       "grid_template_areas": null,
       "grid_template_columns": null,
       "grid_template_rows": null,
       "height": null,
       "justify_content": null,
       "justify_items": null,
       "left": null,
       "margin": null,
       "max_height": null,
       "max_width": null,
       "min_height": null,
       "min_width": null,
       "object_fit": null,
       "object_position": null,
       "order": null,
       "overflow": null,
       "overflow_x": null,
       "overflow_y": null,
       "padding": null,
       "right": null,
       "top": null,
       "visibility": null,
       "width": null
      }
     },
     "2ba764167b8a46b6b7ce5321763bb5ff": {
      "model_module": "@jupyter-widgets/controls",
      "model_module_version": "1.5.0",
      "model_name": "DescriptionStyleModel",
      "state": {
       "_model_module": "@jupyter-widgets/controls",
       "_model_module_version": "1.5.0",
       "_model_name": "DescriptionStyleModel",
       "_view_count": null,
       "_view_module": "@jupyter-widgets/base",
       "_view_module_version": "1.2.0",
       "_view_name": "StyleView",
       "description_width": ""
      }
     },
     "34903157938a43539047b32b74d87f0a": {
      "model_module": "@jupyter-widgets/base",
      "model_module_version": "1.2.0",
      "model_name": "LayoutModel",
      "state": {
       "_model_module": "@jupyter-widgets/base",
       "_model_module_version": "1.2.0",
       "_model_name": "LayoutModel",
       "_view_count": null,
       "_view_module": "@jupyter-widgets/base",
       "_view_module_version": "1.2.0",
       "_view_name": "LayoutView",
       "align_content": null,
       "align_items": null,
       "align_self": null,
       "border": null,
       "bottom": null,
       "display": null,
       "flex": null,
       "flex_flow": null,
       "grid_area": null,
       "grid_auto_columns": null,
       "grid_auto_flow": null,
       "grid_auto_rows": null,
       "grid_column": null,
       "grid_gap": null,
       "grid_row": null,
       "grid_template_areas": null,
       "grid_template_columns": null,
       "grid_template_rows": null,
       "height": null,
       "justify_content": null,
       "justify_items": null,
       "left": null,
       "margin": null,
       "max_height": null,
       "max_width": null,
       "min_height": null,
       "min_width": null,
       "object_fit": null,
       "object_position": null,
       "order": null,
       "overflow": null,
       "overflow_x": null,
       "overflow_y": null,
       "padding": null,
       "right": null,
       "top": null,
       "visibility": null,
       "width": null
      }
     },
     "3cc5b47916494db4ba962168de229381": {
      "model_module": "@jupyter-widgets/controls",
      "model_module_version": "1.5.0",
      "model_name": "HTMLModel",
      "state": {
       "_dom_classes": [],
       "_model_module": "@jupyter-widgets/controls",
       "_model_module_version": "1.5.0",
       "_model_name": "HTMLModel",
       "_view_count": null,
       "_view_module": "@jupyter-widgets/controls",
       "_view_module_version": "1.5.0",
       "_view_name": "HTMLView",
       "description": "",
       "description_tooltip": null,
       "layout": "IPY_MODEL_c4655f9a3fb141d581a564733fc6a528",
       "placeholder": "​",
       "style": "IPY_MODEL_f0c2d4ad235e4c8581fdf315d1c62fa0",
       "value": " 440M/440M [00:05&lt;00:00, 88.2MB/s]"
      }
     },
     "428cc732834543d8a6cc9f81080d7ede": {
      "model_module": "@jupyter-widgets/controls",
      "model_module_version": "1.5.0",
      "model_name": "ProgressStyleModel",
      "state": {
       "_model_module": "@jupyter-widgets/controls",
       "_model_module_version": "1.5.0",
       "_model_name": "ProgressStyleModel",
       "_view_count": null,
       "_view_module": "@jupyter-widgets/base",
       "_view_module_version": "1.2.0",
       "_view_name": "StyleView",
       "bar_color": null,
       "description_width": ""
      }
     },
     "48eb1d553b104a53b3d81d4496d319b3": {
      "model_module": "@jupyter-widgets/controls",
      "model_module_version": "1.5.0",
      "model_name": "HTMLModel",
      "state": {
       "_dom_classes": [],
       "_model_module": "@jupyter-widgets/controls",
       "_model_module_version": "1.5.0",
       "_model_name": "HTMLModel",
       "_view_count": null,
       "_view_module": "@jupyter-widgets/controls",
       "_view_module_version": "1.5.0",
       "_view_name": "HTMLView",
       "description": "",
       "description_tooltip": null,
       "layout": "IPY_MODEL_86df9dc0ef18409097d83818ca526e2c",
       "placeholder": "​",
       "style": "IPY_MODEL_6665c36463f04388a4cd5920f974af10",
       "value": "Downloading config.json: 100%"
      }
     },
     "560b2fe22aba4e448533e5d7ee1c63f6": {
      "model_module": "@jupyter-widgets/controls",
      "model_module_version": "1.5.0",
      "model_name": "DescriptionStyleModel",
      "state": {
       "_model_module": "@jupyter-widgets/controls",
       "_model_module_version": "1.5.0",
       "_model_name": "DescriptionStyleModel",
       "_view_count": null,
       "_view_module": "@jupyter-widgets/base",
       "_view_module_version": "1.2.0",
       "_view_name": "StyleView",
       "description_width": ""
      }
     },
     "5ac3fe69e11f4ed690714a7b73c907fd": {
      "model_module": "@jupyter-widgets/base",
      "model_module_version": "1.2.0",
      "model_name": "LayoutModel",
      "state": {
       "_model_module": "@jupyter-widgets/base",
       "_model_module_version": "1.2.0",
       "_model_name": "LayoutModel",
       "_view_count": null,
       "_view_module": "@jupyter-widgets/base",
       "_view_module_version": "1.2.0",
       "_view_name": "LayoutView",
       "align_content": null,
       "align_items": null,
       "align_self": null,
       "border": null,
       "bottom": null,
       "display": null,
       "flex": null,
       "flex_flow": null,
       "grid_area": null,
       "grid_auto_columns": null,
       "grid_auto_flow": null,
       "grid_auto_rows": null,
       "grid_column": null,
       "grid_gap": null,
       "grid_row": null,
       "grid_template_areas": null,
       "grid_template_columns": null,
       "grid_template_rows": null,
       "height": null,
       "justify_content": null,
       "justify_items": null,
       "left": null,
       "margin": null,
       "max_height": null,
       "max_width": null,
       "min_height": null,
       "min_width": null,
       "object_fit": null,
       "object_position": null,
       "order": null,
       "overflow": null,
       "overflow_x": null,
       "overflow_y": null,
       "padding": null,
       "right": null,
       "top": null,
       "visibility": null,
       "width": null
      }
     },
     "633d29c5ea1d4c85932511a798823c8e": {
      "model_module": "@jupyter-widgets/controls",
      "model_module_version": "1.5.0",
      "model_name": "HBoxModel",
      "state": {
       "_dom_classes": [],
       "_model_module": "@jupyter-widgets/controls",
       "_model_module_version": "1.5.0",
       "_model_name": "HBoxModel",
       "_view_count": null,
       "_view_module": "@jupyter-widgets/controls",
       "_view_module_version": "1.5.0",
       "_view_name": "HBoxView",
       "box_style": "",
       "children": [
        "IPY_MODEL_48eb1d553b104a53b3d81d4496d319b3",
        "IPY_MODEL_edc492d4a1884ae0983a370e25037cd6",
        "IPY_MODEL_225a4632c3b248d195e7350c97fd86cb"
       ],
       "layout": "IPY_MODEL_02aaa2819d1e4f49bca28a9c03f49d5f"
      }
     },
     "6665c36463f04388a4cd5920f974af10": {
      "model_module": "@jupyter-widgets/controls",
      "model_module_version": "1.5.0",
      "model_name": "DescriptionStyleModel",
      "state": {
       "_model_module": "@jupyter-widgets/controls",
       "_model_module_version": "1.5.0",
       "_model_name": "DescriptionStyleModel",
       "_view_count": null,
       "_view_module": "@jupyter-widgets/base",
       "_view_module_version": "1.2.0",
       "_view_name": "StyleView",
       "description_width": ""
      }
     },
     "724c4d61308c47518c35e2372314e004": {
      "model_module": "@jupyter-widgets/controls",
      "model_module_version": "1.5.0",
      "model_name": "HTMLModel",
      "state": {
       "_dom_classes": [],
       "_model_module": "@jupyter-widgets/controls",
       "_model_module_version": "1.5.0",
       "_model_name": "HTMLModel",
       "_view_count": null,
       "_view_module": "@jupyter-widgets/controls",
       "_view_module_version": "1.5.0",
       "_view_name": "HTMLView",
       "description": "",
       "description_tooltip": null,
       "layout": "IPY_MODEL_77110ef32e0c45019462d598c5e4d599",
       "placeholder": "​",
       "style": "IPY_MODEL_0fb000f248d446029dee7ac7bbaea946",
       "value": " 232k/232k [00:00&lt;00:00, 590kB/s]"
      }
     },
     "739b6734bcff4a99b6261f08546586a1": {
      "model_module": "@jupyter-widgets/controls",
      "model_module_version": "1.5.0",
      "model_name": "FloatProgressModel",
      "state": {
       "_dom_classes": [],
       "_model_module": "@jupyter-widgets/controls",
       "_model_module_version": "1.5.0",
       "_model_name": "FloatProgressModel",
       "_view_count": null,
       "_view_module": "@jupyter-widgets/controls",
       "_view_module_version": "1.5.0",
       "_view_name": "ProgressView",
       "bar_style": "success",
       "description": "",
       "description_tooltip": null,
       "layout": "IPY_MODEL_8196bb0c97bf4783817aae0030981f03",
       "max": 440449768.0,
       "min": 0.0,
       "orientation": "horizontal",
       "style": "IPY_MODEL_428cc732834543d8a6cc9f81080d7ede",
       "value": 440449768.0
      }
     },
     "77110ef32e0c45019462d598c5e4d599": {
      "model_module": "@jupyter-widgets/base",
      "model_module_version": "1.2.0",
      "model_name": "LayoutModel",
      "state": {
       "_model_module": "@jupyter-widgets/base",
       "_model_module_version": "1.2.0",
       "_model_name": "LayoutModel",
       "_view_count": null,
       "_view_module": "@jupyter-widgets/base",
       "_view_module_version": "1.2.0",
       "_view_name": "LayoutView",
       "align_content": null,
       "align_items": null,
       "align_self": null,
       "border": null,
       "bottom": null,
       "display": null,
       "flex": null,
       "flex_flow": null,
       "grid_area": null,
       "grid_auto_columns": null,
       "grid_auto_flow": null,
       "grid_auto_rows": null,
       "grid_column": null,
       "grid_gap": null,
       "grid_row": null,
       "grid_template_areas": null,
       "grid_template_columns": null,
       "grid_template_rows": null,
       "height": null,
       "justify_content": null,
       "justify_items": null,
       "left": null,
       "margin": null,
       "max_height": null,
       "max_width": null,
       "min_height": null,
       "min_width": null,
       "object_fit": null,
       "object_position": null,
       "order": null,
       "overflow": null,
       "overflow_x": null,
       "overflow_y": null,
       "padding": null,
       "right": null,
       "top": null,
       "visibility": null,
       "width": null
      }
     },
     "8196bb0c97bf4783817aae0030981f03": {
      "model_module": "@jupyter-widgets/base",
      "model_module_version": "1.2.0",
      "model_name": "LayoutModel",
      "state": {
       "_model_module": "@jupyter-widgets/base",
       "_model_module_version": "1.2.0",
       "_model_name": "LayoutModel",
       "_view_count": null,
       "_view_module": "@jupyter-widgets/base",
       "_view_module_version": "1.2.0",
       "_view_name": "LayoutView",
       "align_content": null,
       "align_items": null,
       "align_self": null,
       "border": null,
       "bottom": null,
       "display": null,
       "flex": null,
       "flex_flow": null,
       "grid_area": null,
       "grid_auto_columns": null,
       "grid_auto_flow": null,
       "grid_auto_rows": null,
       "grid_column": null,
       "grid_gap": null,
       "grid_row": null,
       "grid_template_areas": null,
       "grid_template_columns": null,
       "grid_template_rows": null,
       "height": null,
       "justify_content": null,
       "justify_items": null,
       "left": null,
       "margin": null,
       "max_height": null,
       "max_width": null,
       "min_height": null,
       "min_width": null,
       "object_fit": null,
       "object_position": null,
       "order": null,
       "overflow": null,
       "overflow_x": null,
       "overflow_y": null,
       "padding": null,
       "right": null,
       "top": null,
       "visibility": null,
       "width": null
      }
     },
     "86df9dc0ef18409097d83818ca526e2c": {
      "model_module": "@jupyter-widgets/base",
      "model_module_version": "1.2.0",
      "model_name": "LayoutModel",
      "state": {
       "_model_module": "@jupyter-widgets/base",
       "_model_module_version": "1.2.0",
       "_model_name": "LayoutModel",
       "_view_count": null,
       "_view_module": "@jupyter-widgets/base",
       "_view_module_version": "1.2.0",
       "_view_name": "LayoutView",
       "align_content": null,
       "align_items": null,
       "align_self": null,
       "border": null,
       "bottom": null,
       "display": null,
       "flex": null,
       "flex_flow": null,
       "grid_area": null,
       "grid_auto_columns": null,
       "grid_auto_flow": null,
       "grid_auto_rows": null,
       "grid_column": null,
       "grid_gap": null,
       "grid_row": null,
       "grid_template_areas": null,
       "grid_template_columns": null,
       "grid_template_rows": null,
       "height": null,
       "justify_content": null,
       "justify_items": null,
       "left": null,
       "margin": null,
       "max_height": null,
       "max_width": null,
       "min_height": null,
       "min_width": null,
       "object_fit": null,
       "object_position": null,
       "order": null,
       "overflow": null,
       "overflow_x": null,
       "overflow_y": null,
       "padding": null,
       "right": null,
       "top": null,
       "visibility": null,
       "width": null
      }
     },
     "9b4a5021c3e74d818340f3775b9617b6": {
      "model_module": "@jupyter-widgets/base",
      "model_module_version": "1.2.0",
      "model_name": "LayoutModel",
      "state": {
       "_model_module": "@jupyter-widgets/base",
       "_model_module_version": "1.2.0",
       "_model_name": "LayoutModel",
       "_view_count": null,
       "_view_module": "@jupyter-widgets/base",
       "_view_module_version": "1.2.0",
       "_view_name": "LayoutView",
       "align_content": null,
       "align_items": null,
       "align_self": null,
       "border": null,
       "bottom": null,
       "display": null,
       "flex": null,
       "flex_flow": null,
       "grid_area": null,
       "grid_auto_columns": null,
       "grid_auto_flow": null,
       "grid_auto_rows": null,
       "grid_column": null,
       "grid_gap": null,
       "grid_row": null,
       "grid_template_areas": null,
       "grid_template_columns": null,
       "grid_template_rows": null,
       "height": null,
       "justify_content": null,
       "justify_items": null,
       "left": null,
       "margin": null,
       "max_height": null,
       "max_width": null,
       "min_height": null,
       "min_width": null,
       "object_fit": null,
       "object_position": null,
       "order": null,
       "overflow": null,
       "overflow_x": null,
       "overflow_y": null,
       "padding": null,
       "right": null,
       "top": null,
       "visibility": null,
       "width": null
      }
     },
     "a1cb978354594e65bfde61acba8774a1": {
      "model_module": "@jupyter-widgets/controls",
      "model_module_version": "1.5.0",
      "model_name": "HTMLModel",
      "state": {
       "_dom_classes": [],
       "_model_module": "@jupyter-widgets/controls",
       "_model_module_version": "1.5.0",
       "_model_name": "HTMLModel",
       "_view_count": null,
       "_view_module": "@jupyter-widgets/controls",
       "_view_module_version": "1.5.0",
       "_view_name": "HTMLView",
       "description": "",
       "description_tooltip": null,
       "layout": "IPY_MODEL_fa24a17f79b6430da8fe3de21f657d8b",
       "placeholder": "​",
       "style": "IPY_MODEL_0b8f7ffe8f4841599b3304698f1b77f8",
       "value": " 28.0/28.0 [00:00&lt;00:00, 2.41kB/s]"
      }
     },
     "a77c4c625d18432c997e3f5f5f06e3a9": {
      "model_module": "@jupyter-widgets/controls",
      "model_module_version": "1.5.0",
      "model_name": "ProgressStyleModel",
      "state": {
       "_model_module": "@jupyter-widgets/controls",
       "_model_module_version": "1.5.0",
       "_model_name": "ProgressStyleModel",
       "_view_count": null,
       "_view_module": "@jupyter-widgets/base",
       "_view_module_version": "1.2.0",
       "_view_name": "StyleView",
       "bar_color": null,
       "description_width": ""
      }
     },
     "a995500f73b94b56be21e1996608510a": {
      "model_module": "@jupyter-widgets/controls",
      "model_module_version": "1.5.0",
      "model_name": "FloatProgressModel",
      "state": {
       "_dom_classes": [],
       "_model_module": "@jupyter-widgets/controls",
       "_model_module_version": "1.5.0",
       "_model_name": "FloatProgressModel",
       "_view_count": null,
       "_view_module": "@jupyter-widgets/controls",
       "_view_module_version": "1.5.0",
       "_view_name": "ProgressView",
       "bar_style": "success",
       "description": "",
       "description_tooltip": null,
       "layout": "IPY_MODEL_b832f1dcfb524f99880c0fa9cdc9b710",
       "max": 231508.0,
       "min": 0.0,
       "orientation": "horizontal",
       "style": "IPY_MODEL_d0b2b3dc45bd42e9bc14bd6276a70e53",
       "value": 231508.0
      }
     },
     "b36e03b3d4ba4bd4bdca5bed2f641e80": {
      "model_module": "@jupyter-widgets/controls",
      "model_module_version": "1.5.0",
      "model_name": "DescriptionStyleModel",
      "state": {
       "_model_module": "@jupyter-widgets/controls",
       "_model_module_version": "1.5.0",
       "_model_name": "DescriptionStyleModel",
       "_view_count": null,
       "_view_module": "@jupyter-widgets/base",
       "_view_module_version": "1.2.0",
       "_view_name": "StyleView",
       "description_width": ""
      }
     },
     "b710fae26ad646259d897b0d4eb16d31": {
      "model_module": "@jupyter-widgets/controls",
      "model_module_version": "1.5.0",
      "model_name": "HTMLModel",
      "state": {
       "_dom_classes": [],
       "_model_module": "@jupyter-widgets/controls",
       "_model_module_version": "1.5.0",
       "_model_name": "HTMLModel",
       "_view_count": null,
       "_view_module": "@jupyter-widgets/controls",
       "_view_module_version": "1.5.0",
       "_view_name": "HTMLView",
       "description": "",
       "description_tooltip": null,
       "layout": "IPY_MODEL_2b5b8624d83f4839a0088321176c8fb0",
       "placeholder": "​",
       "style": "IPY_MODEL_560b2fe22aba4e448533e5d7ee1c63f6",
       "value": "Downloading tokenizer_config.json: 100%"
      }
     },
     "b832f1dcfb524f99880c0fa9cdc9b710": {
      "model_module": "@jupyter-widgets/base",
      "model_module_version": "1.2.0",
      "model_name": "LayoutModel",
      "state": {
       "_model_module": "@jupyter-widgets/base",
       "_model_module_version": "1.2.0",
       "_model_name": "LayoutModel",
       "_view_count": null,
       "_view_module": "@jupyter-widgets/base",
       "_view_module_version": "1.2.0",
       "_view_name": "LayoutView",
       "align_content": null,
       "align_items": null,
       "align_self": null,
       "border": null,
       "bottom": null,
       "display": null,
       "flex": null,
       "flex_flow": null,
       "grid_area": null,
       "grid_auto_columns": null,
       "grid_auto_flow": null,
       "grid_auto_rows": null,
       "grid_column": null,
       "grid_gap": null,
       "grid_row": null,
       "grid_template_areas": null,
       "grid_template_columns": null,
       "grid_template_rows": null,
       "height": null,
       "justify_content": null,
       "justify_items": null,
       "left": null,
       "margin": null,
       "max_height": null,
       "max_width": null,
       "min_height": null,
       "min_width": null,
       "object_fit": null,
       "object_position": null,
       "order": null,
       "overflow": null,
       "overflow_x": null,
       "overflow_y": null,
       "padding": null,
       "right": null,
       "top": null,
       "visibility": null,
       "width": null
      }
     },
     "c4655f9a3fb141d581a564733fc6a528": {
      "model_module": "@jupyter-widgets/base",
      "model_module_version": "1.2.0",
      "model_name": "LayoutModel",
      "state": {
       "_model_module": "@jupyter-widgets/base",
       "_model_module_version": "1.2.0",
       "_model_name": "LayoutModel",
       "_view_count": null,
       "_view_module": "@jupyter-widgets/base",
       "_view_module_version": "1.2.0",
       "_view_name": "LayoutView",
       "align_content": null,
       "align_items": null,
       "align_self": null,
       "border": null,
       "bottom": null,
       "display": null,
       "flex": null,
       "flex_flow": null,
       "grid_area": null,
       "grid_auto_columns": null,
       "grid_auto_flow": null,
       "grid_auto_rows": null,
       "grid_column": null,
       "grid_gap": null,
       "grid_row": null,
       "grid_template_areas": null,
       "grid_template_columns": null,
       "grid_template_rows": null,
       "height": null,
       "justify_content": null,
       "justify_items": null,
       "left": null,
       "margin": null,
       "max_height": null,
       "max_width": null,
       "min_height": null,
       "min_width": null,
       "object_fit": null,
       "object_position": null,
       "order": null,
       "overflow": null,
       "overflow_x": null,
       "overflow_y": null,
       "padding": null,
       "right": null,
       "top": null,
       "visibility": null,
       "width": null
      }
     },
     "c625af2257634e158cb269ca2f700a6a": {
      "model_module": "@jupyter-widgets/base",
      "model_module_version": "1.2.0",
      "model_name": "LayoutModel",
      "state": {
       "_model_module": "@jupyter-widgets/base",
       "_model_module_version": "1.2.0",
       "_model_name": "LayoutModel",
       "_view_count": null,
       "_view_module": "@jupyter-widgets/base",
       "_view_module_version": "1.2.0",
       "_view_name": "LayoutView",
       "align_content": null,
       "align_items": null,
       "align_self": null,
       "border": null,
       "bottom": null,
       "display": null,
       "flex": null,
       "flex_flow": null,
       "grid_area": null,
       "grid_auto_columns": null,
       "grid_auto_flow": null,
       "grid_auto_rows": null,
       "grid_column": null,
       "grid_gap": null,
       "grid_row": null,
       "grid_template_areas": null,
       "grid_template_columns": null,
       "grid_template_rows": null,
       "height": null,
       "justify_content": null,
       "justify_items": null,
       "left": null,
       "margin": null,
       "max_height": null,
       "max_width": null,
       "min_height": null,
       "min_width": null,
       "object_fit": null,
       "object_position": null,
       "order": null,
       "overflow": null,
       "overflow_x": null,
       "overflow_y": null,
       "padding": null,
       "right": null,
       "top": null,
       "visibility": null,
       "width": null
      }
     },
     "d0b2b3dc45bd42e9bc14bd6276a70e53": {
      "model_module": "@jupyter-widgets/controls",
      "model_module_version": "1.5.0",
      "model_name": "ProgressStyleModel",
      "state": {
       "_model_module": "@jupyter-widgets/controls",
       "_model_module_version": "1.5.0",
       "_model_name": "ProgressStyleModel",
       "_view_count": null,
       "_view_module": "@jupyter-widgets/base",
       "_view_module_version": "1.2.0",
       "_view_name": "StyleView",
       "bar_color": null,
       "description_width": ""
      }
     },
     "d4e7a4eb8599401dafc4b8d2951c237a": {
      "model_module": "@jupyter-widgets/controls",
      "model_module_version": "1.5.0",
      "model_name": "HTMLModel",
      "state": {
       "_dom_classes": [],
       "_model_module": "@jupyter-widgets/controls",
       "_model_module_version": "1.5.0",
       "_model_name": "HTMLModel",
       "_view_count": null,
       "_view_module": "@jupyter-widgets/controls",
       "_view_module_version": "1.5.0",
       "_view_name": "HTMLView",
       "description": "",
       "description_tooltip": null,
       "layout": "IPY_MODEL_f3c499ce1a1243dd8d91ddc7c76387d2",
       "placeholder": "​",
       "style": "IPY_MODEL_b36e03b3d4ba4bd4bdca5bed2f641e80",
       "value": "Downloading model.safetensors: 100%"
      }
     },
     "d6cd4f2a59954bf0953e4377b02e7e57": {
      "model_module": "@jupyter-widgets/controls",
      "model_module_version": "1.5.0",
      "model_name": "DescriptionStyleModel",
      "state": {
       "_model_module": "@jupyter-widgets/controls",
       "_model_module_version": "1.5.0",
       "_model_name": "DescriptionStyleModel",
       "_view_count": null,
       "_view_module": "@jupyter-widgets/base",
       "_view_module_version": "1.2.0",
       "_view_name": "StyleView",
       "description_width": ""
      }
     },
     "de31a6eb6da547f392285aa478b0854d": {
      "model_module": "@jupyter-widgets/base",
      "model_module_version": "1.2.0",
      "model_name": "LayoutModel",
      "state": {
       "_model_module": "@jupyter-widgets/base",
       "_model_module_version": "1.2.0",
       "_model_name": "LayoutModel",
       "_view_count": null,
       "_view_module": "@jupyter-widgets/base",
       "_view_module_version": "1.2.0",
       "_view_name": "LayoutView",
       "align_content": null,
       "align_items": null,
       "align_self": null,
       "border": null,
       "bottom": null,
       "display": null,
       "flex": null,
       "flex_flow": null,
       "grid_area": null,
       "grid_auto_columns": null,
       "grid_auto_flow": null,
       "grid_auto_rows": null,
       "grid_column": null,
       "grid_gap": null,
       "grid_row": null,
       "grid_template_areas": null,
       "grid_template_columns": null,
       "grid_template_rows": null,
       "height": null,
       "justify_content": null,
       "justify_items": null,
       "left": null,
       "margin": null,
       "max_height": null,
       "max_width": null,
       "min_height": null,
       "min_width": null,
       "object_fit": null,
       "object_position": null,
       "order": null,
       "overflow": null,
       "overflow_x": null,
       "overflow_y": null,
       "padding": null,
       "right": null,
       "top": null,
       "visibility": null,
       "width": null
      }
     },
     "e9920a8ccc2a4e0cb3465372b60a66a9": {
      "model_module": "@jupyter-widgets/controls",
      "model_module_version": "1.5.0",
      "model_name": "HTMLModel",
      "state": {
       "_dom_classes": [],
       "_model_module": "@jupyter-widgets/controls",
       "_model_module_version": "1.5.0",
       "_model_name": "HTMLModel",
       "_view_count": null,
       "_view_module": "@jupyter-widgets/controls",
       "_view_module_version": "1.5.0",
       "_view_name": "HTMLView",
       "description": "",
       "description_tooltip": null,
       "layout": "IPY_MODEL_de31a6eb6da547f392285aa478b0854d",
       "placeholder": "​",
       "style": "IPY_MODEL_d6cd4f2a59954bf0953e4377b02e7e57",
       "value": "Downloading vocab.txt: 100%"
      }
     },
     "edc492d4a1884ae0983a370e25037cd6": {
      "model_module": "@jupyter-widgets/controls",
      "model_module_version": "1.5.0",
      "model_name": "FloatProgressModel",
      "state": {
       "_dom_classes": [],
       "_model_module": "@jupyter-widgets/controls",
       "_model_module_version": "1.5.0",
       "_model_name": "FloatProgressModel",
       "_view_count": null,
       "_view_module": "@jupyter-widgets/controls",
       "_view_module_version": "1.5.0",
       "_view_name": "ProgressView",
       "bar_style": "success",
       "description": "",
       "description_tooltip": null,
       "layout": "IPY_MODEL_022a518dc05d4e5e9ef2b00365899228",
       "max": 570.0,
       "min": 0.0,
       "orientation": "horizontal",
       "style": "IPY_MODEL_a77c4c625d18432c997e3f5f5f06e3a9",
       "value": 570.0
      }
     },
     "f0c2d4ad235e4c8581fdf315d1c62fa0": {
      "model_module": "@jupyter-widgets/controls",
      "model_module_version": "1.5.0",
      "model_name": "DescriptionStyleModel",
      "state": {
       "_model_module": "@jupyter-widgets/controls",
       "_model_module_version": "1.5.0",
       "_model_name": "DescriptionStyleModel",
       "_view_count": null,
       "_view_module": "@jupyter-widgets/base",
       "_view_module_version": "1.2.0",
       "_view_name": "StyleView",
       "description_width": ""
      }
     },
     "f3b416c75ab84234894db8b1e2898c3f": {
      "model_module": "@jupyter-widgets/controls",
      "model_module_version": "1.5.0",
      "model_name": "HBoxModel",
      "state": {
       "_dom_classes": [],
       "_model_module": "@jupyter-widgets/controls",
       "_model_module_version": "1.5.0",
       "_model_name": "HBoxModel",
       "_view_count": null,
       "_view_module": "@jupyter-widgets/controls",
       "_view_module_version": "1.5.0",
       "_view_name": "HBoxView",
       "box_style": "",
       "children": [
        "IPY_MODEL_b710fae26ad646259d897b0d4eb16d31",
        "IPY_MODEL_14e0c8becbc0426c944ed8b582a57c95",
        "IPY_MODEL_a1cb978354594e65bfde61acba8774a1"
       ],
       "layout": "IPY_MODEL_5ac3fe69e11f4ed690714a7b73c907fd"
      }
     },
     "f3c499ce1a1243dd8d91ddc7c76387d2": {
      "model_module": "@jupyter-widgets/base",
      "model_module_version": "1.2.0",
      "model_name": "LayoutModel",
      "state": {
       "_model_module": "@jupyter-widgets/base",
       "_model_module_version": "1.2.0",
       "_model_name": "LayoutModel",
       "_view_count": null,
       "_view_module": "@jupyter-widgets/base",
       "_view_module_version": "1.2.0",
       "_view_name": "LayoutView",
       "align_content": null,
       "align_items": null,
       "align_self": null,
       "border": null,
       "bottom": null,
       "display": null,
       "flex": null,
       "flex_flow": null,
       "grid_area": null,
       "grid_auto_columns": null,
       "grid_auto_flow": null,
       "grid_auto_rows": null,
       "grid_column": null,
       "grid_gap": null,
       "grid_row": null,
       "grid_template_areas": null,
       "grid_template_columns": null,
       "grid_template_rows": null,
       "height": null,
       "justify_content": null,
       "justify_items": null,
       "left": null,
       "margin": null,
       "max_height": null,
       "max_width": null,
       "min_height": null,
       "min_width": null,
       "object_fit": null,
       "object_position": null,
       "order": null,
       "overflow": null,
       "overflow_x": null,
       "overflow_y": null,
       "padding": null,
       "right": null,
       "top": null,
       "visibility": null,
       "width": null
      }
     },
     "f6874955246249fe9f48f5bac816b2b0": {
      "model_module": "@jupyter-widgets/base",
      "model_module_version": "1.2.0",
      "model_name": "LayoutModel",
      "state": {
       "_model_module": "@jupyter-widgets/base",
       "_model_module_version": "1.2.0",
       "_model_name": "LayoutModel",
       "_view_count": null,
       "_view_module": "@jupyter-widgets/base",
       "_view_module_version": "1.2.0",
       "_view_name": "LayoutView",
       "align_content": null,
       "align_items": null,
       "align_self": null,
       "border": null,
       "bottom": null,
       "display": null,
       "flex": null,
       "flex_flow": null,
       "grid_area": null,
       "grid_auto_columns": null,
       "grid_auto_flow": null,
       "grid_auto_rows": null,
       "grid_column": null,
       "grid_gap": null,
       "grid_row": null,
       "grid_template_areas": null,
       "grid_template_columns": null,
       "grid_template_rows": null,
       "height": null,
       "justify_content": null,
       "justify_items": null,
       "left": null,
       "margin": null,
       "max_height": null,
       "max_width": null,
       "min_height": null,
       "min_width": null,
       "object_fit": null,
       "object_position": null,
       "order": null,
       "overflow": null,
       "overflow_x": null,
       "overflow_y": null,
       "padding": null,
       "right": null,
       "top": null,
       "visibility": null,
       "width": null
      }
     },
     "fa24a17f79b6430da8fe3de21f657d8b": {
      "model_module": "@jupyter-widgets/base",
      "model_module_version": "1.2.0",
      "model_name": "LayoutModel",
      "state": {
       "_model_module": "@jupyter-widgets/base",
       "_model_module_version": "1.2.0",
       "_model_name": "LayoutModel",
       "_view_count": null,
       "_view_module": "@jupyter-widgets/base",
       "_view_module_version": "1.2.0",
       "_view_name": "LayoutView",
       "align_content": null,
       "align_items": null,
       "align_self": null,
       "border": null,
       "bottom": null,
       "display": null,
       "flex": null,
       "flex_flow": null,
       "grid_area": null,
       "grid_auto_columns": null,
       "grid_auto_flow": null,
       "grid_auto_rows": null,
       "grid_column": null,
       "grid_gap": null,
       "grid_row": null,
       "grid_template_areas": null,
       "grid_template_columns": null,
       "grid_template_rows": null,
       "height": null,
       "justify_content": null,
       "justify_items": null,
       "left": null,
       "margin": null,
       "max_height": null,
       "max_width": null,
       "min_height": null,
       "min_width": null,
       "object_fit": null,
       "object_position": null,
       "order": null,
       "overflow": null,
       "overflow_x": null,
       "overflow_y": null,
       "padding": null,
       "right": null,
       "top": null,
       "visibility": null,
       "width": null
      }
     },
     "fd3cc032618942da915483d21afab790": {
      "model_module": "@jupyter-widgets/controls",
      "model_module_version": "1.5.0",
      "model_name": "ProgressStyleModel",
      "state": {
       "_model_module": "@jupyter-widgets/controls",
       "_model_module_version": "1.5.0",
       "_model_name": "ProgressStyleModel",
       "_view_count": null,
       "_view_module": "@jupyter-widgets/base",
       "_view_module_version": "1.2.0",
       "_view_name": "StyleView",
       "bar_color": null,
       "description_width": ""
      }
     }
    },
    "version_major": 2,
    "version_minor": 0
   }
  }
 },
 "nbformat": 4,
 "nbformat_minor": 5
}
