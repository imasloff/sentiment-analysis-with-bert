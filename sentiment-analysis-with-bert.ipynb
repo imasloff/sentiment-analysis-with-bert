{
 "cells": [
  {
   "cell_type": "code",
   "execution_count": 1,
   "id": "edb850d3",
   "metadata": {
    "_cell_guid": "b1076dfc-b9ad-4769-8c92-a6c4dae69d19",
    "_uuid": "8f2839f25d086af736a60e9eeb907d3b93b6e0e5",
    "execution": {
     "iopub.execute_input": "2023-11-19T18:52:13.232350Z",
     "iopub.status.busy": "2023-11-19T18:52:13.231482Z",
     "iopub.status.idle": "2023-11-19T18:52:30.388872Z",
     "shell.execute_reply": "2023-11-19T18:52:30.387825Z"
    },
    "papermill": {
     "duration": 17.169856,
     "end_time": "2023-11-19T18:52:30.390983",
     "exception": false,
     "start_time": "2023-11-19T18:52:13.221127",
     "status": "completed"
    },
    "tags": []
   },
   "outputs": [
    {
     "name": "stderr",
     "output_type": "stream",
     "text": [
      "/opt/conda/lib/python3.10/site-packages/scipy/__init__.py:146: UserWarning: A NumPy version >=1.16.5 and <1.23.0 is required for this version of SciPy (detected version 1.23.5\n",
      "  warnings.warn(f\"A NumPy version >={np_minversion} and <{np_maxversion}\"\n"
     ]
    },
    {
     "name": "stdout",
     "output_type": "stream",
     "text": [
      "/kaggle/input/sentiment140/training.1600000.processed.noemoticon.csv\n"
     ]
    }
   ],
   "source": [
    "# This Python 3 environment comes with many helpful analytics libraries installed\n",
    "# It is defined by the kaggle/python Docker image: https://github.com/kaggle/docker-python\n",
    "# For example, here's several helpful packages to load\n",
    "\n",
    "import re\n",
    "import time\n",
    "import string\n",
    "import nltk\n",
    "import numpy as np # linear algebra\n",
    "import pandas as pd # data processing, CSV file I/O (e.g. pd.read_csv)\n",
    "import seaborn as sns\n",
    "import tensorflow as tf\n",
    "import matplotlib.pyplot as plt\n",
    "\n",
    "from nltk.corpus import stopwords\n",
    "from nltk.stem import PorterStemmer\n",
    "from tensorflow.keras.metrics import Accuracy, Precision, Recall\n",
    "from transformers import (\n",
    "    BertTokenizer, TFBertForSequenceClassification, pipeline\n",
    ")\n",
    "from sklearn.metrics import confusion_matrix\n",
    "from sklearn.preprocessing import LabelEncoder\n",
    "from sklearn.model_selection import train_test_split\n",
    "\n",
    "from wordcloud import WordCloud\n",
    "\n",
    "# Input data files are available in the read-only \"../input/\" directory\n",
    "# For example, running this (by clicking run or pressing Shift+Enter) will list all files under the input directory\n",
    "\n",
    "import os\n",
    "for dirname, _, filenames in os.walk('/kaggle/input'):\n",
    "    for filename in filenames:\n",
    "        print(os.path.join(dirname, filename))\n",
    "\n",
    "# You can write up to 20GB to the current directory (/kaggle/working/) that gets preserved as output when you create a version using \"Save & Run All\" \n",
    "# You can also write temporary files to /kaggle/temp/, but they won't be saved outside of the current session"
   ]
  },
  {
   "cell_type": "markdown",
   "id": "6b75d44f",
   "metadata": {
    "papermill": {
     "duration": 0.008212,
     "end_time": "2023-11-19T18:52:30.408061",
     "exception": false,
     "start_time": "2023-11-19T18:52:30.399849",
     "status": "completed"
    },
    "tags": []
   },
   "source": [
    "# Data Preprocessing"
   ]
  },
  {
   "cell_type": "markdown",
   "id": "1541d815",
   "metadata": {
    "papermill": {
     "duration": 0.007982,
     "end_time": "2023-11-19T18:52:30.424347",
     "exception": false,
     "start_time": "2023-11-19T18:52:30.416365",
     "status": "completed"
    },
    "tags": []
   },
   "source": [
    "Load data"
   ]
  },
  {
   "cell_type": "code",
   "execution_count": 2,
   "id": "0b5dc132",
   "metadata": {
    "execution": {
     "iopub.execute_input": "2023-11-19T18:52:30.442144Z",
     "iopub.status.busy": "2023-11-19T18:52:30.441833Z",
     "iopub.status.idle": "2023-11-19T18:52:38.725454Z",
     "shell.execute_reply": "2023-11-19T18:52:38.724550Z"
    },
    "papermill": {
     "duration": 8.295051,
     "end_time": "2023-11-19T18:52:38.727594",
     "exception": false,
     "start_time": "2023-11-19T18:52:30.432543",
     "status": "completed"
    },
    "tags": []
   },
   "outputs": [
    {
     "data": {
      "text/html": [
       "<div>\n",
       "<style scoped>\n",
       "    .dataframe tbody tr th:only-of-type {\n",
       "        vertical-align: middle;\n",
       "    }\n",
       "\n",
       "    .dataframe tbody tr th {\n",
       "        vertical-align: top;\n",
       "    }\n",
       "\n",
       "    .dataframe thead th {\n",
       "        text-align: right;\n",
       "    }\n",
       "</style>\n",
       "<table border=\"1\" class=\"dataframe\">\n",
       "  <thead>\n",
       "    <tr style=\"text-align: right;\">\n",
       "      <th></th>\n",
       "      <th>target</th>\n",
       "      <th>ids</th>\n",
       "      <th>date</th>\n",
       "      <th>flag</th>\n",
       "      <th>user</th>\n",
       "      <th>text</th>\n",
       "    </tr>\n",
       "  </thead>\n",
       "  <tbody>\n",
       "    <tr>\n",
       "      <th>0</th>\n",
       "      <td>0</td>\n",
       "      <td>1467810369</td>\n",
       "      <td>Mon Apr 06 22:19:45 PDT 2009</td>\n",
       "      <td>NO_QUERY</td>\n",
       "      <td>_TheSpecialOne_</td>\n",
       "      <td>@switchfoot http://twitpic.com/2y1zl - Awww, t...</td>\n",
       "    </tr>\n",
       "    <tr>\n",
       "      <th>1</th>\n",
       "      <td>0</td>\n",
       "      <td>1467810672</td>\n",
       "      <td>Mon Apr 06 22:19:49 PDT 2009</td>\n",
       "      <td>NO_QUERY</td>\n",
       "      <td>scotthamilton</td>\n",
       "      <td>is upset that he can't update his Facebook by ...</td>\n",
       "    </tr>\n",
       "    <tr>\n",
       "      <th>2</th>\n",
       "      <td>0</td>\n",
       "      <td>1467810917</td>\n",
       "      <td>Mon Apr 06 22:19:53 PDT 2009</td>\n",
       "      <td>NO_QUERY</td>\n",
       "      <td>mattycus</td>\n",
       "      <td>@Kenichan I dived many times for the ball. Man...</td>\n",
       "    </tr>\n",
       "    <tr>\n",
       "      <th>3</th>\n",
       "      <td>0</td>\n",
       "      <td>1467811184</td>\n",
       "      <td>Mon Apr 06 22:19:57 PDT 2009</td>\n",
       "      <td>NO_QUERY</td>\n",
       "      <td>ElleCTF</td>\n",
       "      <td>my whole body feels itchy and like its on fire</td>\n",
       "    </tr>\n",
       "    <tr>\n",
       "      <th>4</th>\n",
       "      <td>0</td>\n",
       "      <td>1467811193</td>\n",
       "      <td>Mon Apr 06 22:19:57 PDT 2009</td>\n",
       "      <td>NO_QUERY</td>\n",
       "      <td>Karoli</td>\n",
       "      <td>@nationwideclass no, it's not behaving at all....</td>\n",
       "    </tr>\n",
       "  </tbody>\n",
       "</table>\n",
       "</div>"
      ],
      "text/plain": [
       "   target         ids                          date      flag  \\\n",
       "0       0  1467810369  Mon Apr 06 22:19:45 PDT 2009  NO_QUERY   \n",
       "1       0  1467810672  Mon Apr 06 22:19:49 PDT 2009  NO_QUERY   \n",
       "2       0  1467810917  Mon Apr 06 22:19:53 PDT 2009  NO_QUERY   \n",
       "3       0  1467811184  Mon Apr 06 22:19:57 PDT 2009  NO_QUERY   \n",
       "4       0  1467811193  Mon Apr 06 22:19:57 PDT 2009  NO_QUERY   \n",
       "\n",
       "              user                                               text  \n",
       "0  _TheSpecialOne_  @switchfoot http://twitpic.com/2y1zl - Awww, t...  \n",
       "1    scotthamilton  is upset that he can't update his Facebook by ...  \n",
       "2         mattycus  @Kenichan I dived many times for the ball. Man...  \n",
       "3          ElleCTF    my whole body feels itchy and like its on fire   \n",
       "4           Karoli  @nationwideclass no, it's not behaving at all....  "
      ]
     },
     "execution_count": 2,
     "metadata": {},
     "output_type": "execute_result"
    }
   ],
   "source": [
    "data = pd.read_csv('/kaggle/input/sentiment140/training.1600000.processed.noemoticon.csv', encoding='latin-1', header=None)\n",
    "data.columns = ['target', 'ids', 'date', 'flag', 'user', 'text']\n",
    "data = data.drop_duplicates('text')\n",
    "data.head()"
   ]
  },
  {
   "cell_type": "code",
   "execution_count": 3,
   "id": "d216c90d",
   "metadata": {
    "execution": {
     "iopub.execute_input": "2023-11-19T18:52:38.746556Z",
     "iopub.status.busy": "2023-11-19T18:52:38.746263Z",
     "iopub.status.idle": "2023-11-19T18:52:38.751748Z",
     "shell.execute_reply": "2023-11-19T18:52:38.750919Z"
    },
    "papermill": {
     "duration": 0.017059,
     "end_time": "2023-11-19T18:52:38.753557",
     "exception": false,
     "start_time": "2023-11-19T18:52:38.736498",
     "status": "completed"
    },
    "tags": []
   },
   "outputs": [
    {
     "data": {
      "text/plain": [
       "(1581466, 6)"
      ]
     },
     "execution_count": 3,
     "metadata": {},
     "output_type": "execute_result"
    }
   ],
   "source": [
    "data.shape"
   ]
  },
  {
   "cell_type": "code",
   "execution_count": 4,
   "id": "2183f8fc",
   "metadata": {
    "execution": {
     "iopub.execute_input": "2023-11-19T18:52:38.772241Z",
     "iopub.status.busy": "2023-11-19T18:52:38.771959Z",
     "iopub.status.idle": "2023-11-19T18:52:38.778819Z",
     "shell.execute_reply": "2023-11-19T18:52:38.777936Z"
    },
    "papermill": {
     "duration": 0.01838,
     "end_time": "2023-11-19T18:52:38.780850",
     "exception": false,
     "start_time": "2023-11-19T18:52:38.762470",
     "status": "completed"
    },
    "tags": []
   },
   "outputs": [
    {
     "data": {
      "text/plain": [
       "target     int64\n",
       "ids        int64\n",
       "date      object\n",
       "flag      object\n",
       "user      object\n",
       "text      object\n",
       "dtype: object"
      ]
     },
     "execution_count": 4,
     "metadata": {},
     "output_type": "execute_result"
    }
   ],
   "source": [
    "data.dtypes"
   ]
  },
  {
   "cell_type": "code",
   "execution_count": 5,
   "id": "b3044d61",
   "metadata": {
    "execution": {
     "iopub.execute_input": "2023-11-19T18:52:38.799839Z",
     "iopub.status.busy": "2023-11-19T18:52:38.799520Z",
     "iopub.status.idle": "2023-11-19T18:52:38.814705Z",
     "shell.execute_reply": "2023-11-19T18:52:38.813870Z"
    },
    "papermill": {
     "duration": 0.02683,
     "end_time": "2023-11-19T18:52:38.816676",
     "exception": false,
     "start_time": "2023-11-19T18:52:38.789846",
     "status": "completed"
    },
    "tags": []
   },
   "outputs": [
    {
     "data": {
      "text/plain": [
       "array([0, 4])"
      ]
     },
     "execution_count": 5,
     "metadata": {},
     "output_type": "execute_result"
    }
   ],
   "source": [
    "data['target'].unique()"
   ]
  },
  {
   "cell_type": "code",
   "execution_count": 6,
   "id": "7fa85412",
   "metadata": {
    "execution": {
     "iopub.execute_input": "2023-11-19T18:52:38.836453Z",
     "iopub.status.busy": "2023-11-19T18:52:38.835949Z",
     "iopub.status.idle": "2023-11-19T18:52:38.921394Z",
     "shell.execute_reply": "2023-11-19T18:52:38.920281Z"
    },
    "papermill": {
     "duration": 0.09795,
     "end_time": "2023-11-19T18:52:38.923938",
     "exception": false,
     "start_time": "2023-11-19T18:52:38.825988",
     "status": "completed"
    },
    "tags": []
   },
   "outputs": [],
   "source": [
    "# Map the target values to positive, negative, and neutral labels\n",
    "le = LabelEncoder()\n",
    "data['sentiment'] = le.fit_transform(data['target'])\n",
    "# Select the relevant columns\n",
    "df = data[['text', 'sentiment']]"
   ]
  },
  {
   "cell_type": "markdown",
   "id": "7b2890b1",
   "metadata": {
    "papermill": {
     "duration": 0.00979,
     "end_time": "2023-11-19T18:52:38.943040",
     "exception": false,
     "start_time": "2023-11-19T18:52:38.933250",
     "status": "completed"
    },
    "tags": []
   },
   "source": [
    "## Sentiment Distribution Visualization"
   ]
  },
  {
   "cell_type": "markdown",
   "id": "7c280f40",
   "metadata": {
    "papermill": {
     "duration": 0.008763,
     "end_time": "2023-11-19T18:52:38.960656",
     "exception": false,
     "start_time": "2023-11-19T18:52:38.951893",
     "status": "completed"
    },
    "tags": []
   },
   "source": [
    "Visualize the distribution of sentiments"
   ]
  },
  {
   "cell_type": "code",
   "execution_count": 7,
   "id": "4bcd74fa",
   "metadata": {
    "execution": {
     "iopub.execute_input": "2023-11-19T18:52:38.980333Z",
     "iopub.status.busy": "2023-11-19T18:52:38.979549Z",
     "iopub.status.idle": "2023-11-19T18:52:39.300692Z",
     "shell.execute_reply": "2023-11-19T18:52:39.299759Z"
    },
    "papermill": {
     "duration": 0.333264,
     "end_time": "2023-11-19T18:52:39.303034",
     "exception": false,
     "start_time": "2023-11-19T18:52:38.969770",
     "status": "completed"
    },
    "tags": []
   },
   "outputs": [
    {
     "data": {
      "image/png": "[encoded data removed]",
      "text/plain": [
       "<Figure size 600x600 with 1 Axes>"
      ]
     },
     "metadata": {},
     "output_type": "display_data"
    }
   ],
   "source": [
    "plt.figure(figsize=(6, 6))\n",
    "df['sentiment'].value_counts().plot(kind='bar', color=['skyblue', 'salmon', 'lightgreen'])\n",
    "plt.title('Sentiment Distribution')\n",
    "plt.xlabel('Sentiment')\n",
    "plt.ylabel('Count')\n",
    "plt.xticks([0, 1, 2], ['Negative', 'Neutral', 'Positive'])\n",
    "plt.show()"
   ]
  },
  {
   "cell_type": "markdown",
   "id": "7e72249c",
   "metadata": {
    "papermill": {
     "duration": 0.009405,
     "end_time": "2023-11-19T18:52:39.322419",
     "exception": false,
     "start_time": "2023-11-19T18:52:39.313014",
     "status": "completed"
    },
    "tags": []
   },
   "source": [
    "# Text Preprocessing"
   ]
  },
  {
   "cell_type": "code",
   "execution_count": 8,
   "id": "074fa3b7",
   "metadata": {
    "execution": {
     "iopub.execute_input": "2023-11-19T18:52:39.342964Z",
     "iopub.status.busy": "2023-11-19T18:52:39.342340Z",
     "iopub.status.idle": "2023-11-19T18:52:40.288914Z",
     "shell.execute_reply": "2023-11-19T18:52:40.288105Z"
    },
    "papermill": {
     "duration": 0.95944,
     "end_time": "2023-11-19T18:52:40.291208",
     "exception": false,
     "start_time": "2023-11-19T18:52:39.331768",
     "status": "completed"
    },
    "tags": []
   },
   "outputs": [
    {
     "name": "stdout",
     "output_type": "stream",
     "text": [
      "[nltk_data] Downloading package stopwords to /usr/share/nltk_data...\n",
      "[nltk_data]   Package stopwords is already up-to-date!\n"
     ]
    },
    {
     "data": {
      "application/vnd.jupyter.widget-view+json": {
       "model_id": "42423a27f937413f8acdb6e089a54c75",
       "version_major": 2,
       "version_minor": 0
      },
      "text/plain": [
       "Downloading vocab.txt:   0%|          | 0.00/232k [00:00<?, ?B/s]"
      ]
     },
     "metadata": {},
     "output_type": "display_data"
    },
    {
     "data": {
      "application/vnd.jupyter.widget-view+json": {
       "model_id": "0fd9d77cd6a34dea8497025b3efc6ff9",
       "version_major": 2,
       "version_minor": 0
      },
      "text/plain": [
       "Downloading tokenizer_config.json:   0%|          | 0.00/28.0 [00:00<?, ?B/s]"
      ]
     },
     "metadata": {},
     "output_type": "display_data"
    },
    {
     "data": {
      "application/vnd.jupyter.widget-view+json": {
       "model_id": "219121eb1a494051bb1bdcca386a4ecb",
       "version_major": 2,
       "version_minor": 0
      },
      "text/plain": [
       "Downloading config.json:   0%|          | 0.00/570 [00:00<?, ?B/s]"
      ]
     },
     "metadata": {},
     "output_type": "display_data"
    }
   ],
   "source": [
    "nltk.download('stopwords')\n",
    "STOPWORDS = stopwords.words('english')\n",
    "\n",
    "# Initialize the tokenizer\n",
    "tokenizer = BertTokenizer.from_pretrained('bert-base-uncased')\n",
    "\n",
    "# Function for text cleaning and tokenization\n",
    "def preprocess_text(text):\n",
    "    # Convert to lowercase\n",
    "    text = text.lower()\n",
    "    # Remove URLs\n",
    "    text = re.sub(r'http\\S+|www\\S+|https\\S+', '', text)\n",
    "    # Remove user handles and hashtags\n",
    "    text = re.sub(r'@[A-Za-z0-9]+', '', text)\n",
    "    text = re.sub(r'#', '', text)\n",
    "    # Remove punctuation and special characters\n",
    "    text = text.translate(str.maketrans('', '', string.punctuation))\n",
    "    # Tokenization\n",
    "    words = text.split()\n",
    "    # Remove stopwords\n",
    "    words = [word for word in words if word not in STOPWORDS]\n",
    "    # Stemming\n",
    "    stemmer = PorterStemmer()\n",
    "    words = [stemmer.stem(word) for word in words]\n",
    "    # Join the words back into a single string\n",
    "    cleaned_text = ' '.join(words)\n",
    "    return cleaned_text"
   ]
  },
  {
   "cell_type": "code",
   "execution_count": 9,
   "id": "9da6d06d",
   "metadata": {
    "execution": {
     "iopub.execute_input": "2023-11-19T18:52:40.313009Z",
     "iopub.status.busy": "2023-11-19T18:52:40.312697Z",
     "iopub.status.idle": "2023-11-19T18:59:53.616449Z",
     "shell.execute_reply": "2023-11-19T18:59:53.615498Z"
    },
    "papermill": {
     "duration": 433.317079,
     "end_time": "2023-11-19T18:59:53.618673",
     "exception": false,
     "start_time": "2023-11-19T18:52:40.301594",
     "status": "completed"
    },
    "tags": []
   },
   "outputs": [
    {
     "name": "stderr",
     "output_type": "stream",
     "text": [
      "<timed exec>:2: SettingWithCopyWarning: \n",
      "A value is trying to be set on a copy of a slice from a DataFrame.\n",
      "Try using .loc[row_indexer,col_indexer] = value instead\n",
      "\n",
      "See the caveats in the documentation: https://pandas.pydata.org/pandas-docs/stable/user_guide/indexing.html#returning-a-view-versus-a-copy\n"
     ]
    },
    {
     "name": "stdout",
     "output_type": "stream",
     "text": [
      "CPU times: user 7min 13s, sys: 258 ms, total: 7min 13s\n",
      "Wall time: 7min 13s\n"
     ]
    }
   ],
   "source": [
    "%%time\n",
    "# Preprocess texts\n",
    "df.text = df.text.map(lambda x: preprocess_text(x))\n",
    "# Split the data into training and testing sets\n",
    "train_data, test_data = train_test_split(df, test_size=0.1, random_state=42)\n",
    "train_data, val_data = train_test_split(train_data, test_size=0.2, random_state=42)"
   ]
  },
  {
   "cell_type": "markdown",
   "id": "dc55d7b1",
   "metadata": {
    "papermill": {
     "duration": 0.009985,
     "end_time": "2023-11-19T18:59:53.639080",
     "exception": false,
     "start_time": "2023-11-19T18:59:53.629095",
     "status": "completed"
    },
    "tags": []
   },
   "source": [
    "Play with wordclouds a little"
   ]
  },
  {
   "cell_type": "code",
   "execution_count": 10,
   "id": "ce720a7b",
   "metadata": {
    "execution": {
     "iopub.execute_input": "2023-11-19T18:59:53.660408Z",
     "iopub.status.busy": "2023-11-19T18:59:53.660084Z",
     "iopub.status.idle": "2023-11-19T18:59:54.253228Z",
     "shell.execute_reply": "2023-11-19T18:59:54.252249Z"
    },
    "papermill": {
     "duration": 0.606812,
     "end_time": "2023-11-19T18:59:54.255842",
     "exception": false,
     "start_time": "2023-11-19T18:59:53.649030",
     "status": "completed"
    },
    "tags": []
   },
   "outputs": [
    {
     "data": {
      "image/png": "[encoded data removed]",
      "text/plain": [
       "<Figure size 640x480 with 1 Axes>"
      ]
     },
     "metadata": {},
     "output_type": "display_data"
    },
    {
     "data": {
      "image/png": "[encoded data removed]",
      "text/plain": [
       "<Figure size 640x480 with 1 Axes>"
      ]
     },
     "metadata": {},
     "output_type": "display_data"
    }
   ],
   "source": [
    "# Wordcloud with positive tweets\n",
    "positive_tweets = df['text'][df[\"sentiment\"] == 1]\n",
    "stop_words = [\"https\", \"co\", \"RT\"] + STOPWORDS\n",
    "positive_wordcloud = WordCloud(max_font_size=50, max_words=100, background_color=\"white\", stopwords = stop_words).generate(str(positive_tweets))\n",
    "plt.figure()\n",
    "plt.title(\"Positive Tweets - Wordcloud\")\n",
    "plt.imshow(positive_wordcloud, interpolation=\"bilinear\")\n",
    "plt.axis(\"off\")\n",
    "plt.show()\n",
    " \n",
    "# Wordcloud with negative tweets\n",
    "negative_tweets = df['text'][df[\"sentiment\"] == 0]\n",
    "stop_words = [\"https\", \"co\", \"RT\"] + STOPWORDS\n",
    "negative_wordcloud = WordCloud(max_font_size=50, max_words=100, background_color=\"white\", stopwords = stop_words).generate(str(negative_tweets))\n",
    "plt.figure()\n",
    "plt.title(\"Negative Tweets - Wordcloud\")\n",
    "plt.imshow(negative_wordcloud, interpolation=\"bilinear\")\n",
    "plt.axis(\"off\")\n",
    "plt.show()"
   ]
  },
  {
   "cell_type": "markdown",
   "id": "b8acae5a",
   "metadata": {
    "papermill": {
     "duration": 0.015306,
     "end_time": "2023-11-19T18:59:54.285900",
     "exception": false,
     "start_time": "2023-11-19T18:59:54.270594",
     "status": "completed"
    },
    "tags": []
   },
   "source": [
    "Tokenize the cleaned text"
   ]
  },
  {
   "cell_type": "code",
   "execution_count": 11,
   "id": "a9fdb71a",
   "metadata": {
    "execution": {
     "iopub.execute_input": "2023-11-19T18:59:54.316719Z",
     "iopub.status.busy": "2023-11-19T18:59:54.316343Z",
     "iopub.status.idle": "2023-11-19T19:09:49.367718Z",
     "shell.execute_reply": "2023-11-19T19:09:49.366875Z"
    },
    "papermill": {
     "duration": 595.06995,
     "end_time": "2023-11-19T19:09:49.370382",
     "exception": false,
     "start_time": "2023-11-19T18:59:54.300432",
     "status": "completed"
    },
    "tags": []
   },
   "outputs": [],
   "source": [
    "encoded_train = tokenizer.batch_encode_plus(train_data.text.values,\n",
    "                                            padding=True,\n",
    "                                            truncation=True,\n",
    "                                            add_special_tokens=True,\n",
    "                                            return_attention_mask=True,\n",
    "                                            max_length=64,\n",
    "                                            return_tensors='tf')\n",
    "encoded_test = tokenizer.batch_encode_plus(test_data.text.values,\n",
    "                                           padding=True,\n",
    "                                           truncation=True,\n",
    "                                           add_special_tokens=True,\n",
    "                                           return_attention_mask=True,\n",
    "                                           max_length=64,\n",
    "                                           return_tensors='tf')\n",
    "encoded_val = tokenizer.batch_encode_plus(val_data.text.values,\n",
    "                                           padding=True,\n",
    "                                           truncation=True,\n",
    "                                           add_special_tokens=True,\n",
    "                                           return_attention_mask=True,\n",
    "                                           max_length=64,\n",
    "                                           return_tensors='tf')"
   ]
  },
  {
   "cell_type": "code",
   "execution_count": 12,
   "id": "2300e051",
   "metadata": {
    "execution": {
     "iopub.execute_input": "2023-11-19T19:09:49.401084Z",
     "iopub.status.busy": "2023-11-19T19:09:49.400780Z",
     "iopub.status.idle": "2023-11-19T19:09:49.408528Z",
     "shell.execute_reply": "2023-11-19T19:09:49.407665Z"
    },
    "papermill": {
     "duration": 0.025085,
     "end_time": "2023-11-19T19:09:49.410434",
     "exception": false,
     "start_time": "2023-11-19T19:09:49.385349",
     "status": "completed"
    },
    "tags": []
   },
   "outputs": [
    {
     "data": {
      "text/plain": [
       "{'input_ids': <tf.Tensor: shape=(1138655, 64), dtype=int32, numpy=\n",
       "array([[  101,  2188,  6904, ...,     0,     0,     0],\n",
       "       [  101,  2215,  2601, ...,     0,     0,     0],\n",
       "       [  101,  2514,  2785, ...,     0,     0,     0],\n",
       "       ...,\n",
       "       [  101, 10047,  2307, ...,     0,     0,     0],\n",
       "       [  101,  2748,  2860, ...,     0,     0,     0],\n",
       "       [  101,  2613,  3669, ...,     0,     0,     0]], dtype=int32)>, 'token_type_ids': <tf.Tensor: shape=(1138655, 64), dtype=int32, numpy=\n",
       "array([[0, 0, 0, ..., 0, 0, 0],\n",
       "       [0, 0, 0, ..., 0, 0, 0],\n",
       "       [0, 0, 0, ..., 0, 0, 0],\n",
       "       ...,\n",
       "       [0, 0, 0, ..., 0, 0, 0],\n",
       "       [0, 0, 0, ..., 0, 0, 0],\n",
       "       [0, 0, 0, ..., 0, 0, 0]], dtype=int32)>, 'attention_mask': <tf.Tensor: shape=(1138655, 64), dtype=int32, numpy=\n",
       "array([[1, 1, 1, ..., 0, 0, 0],\n",
       "       [1, 1, 1, ..., 0, 0, 0],\n",
       "       [1, 1, 1, ..., 0, 0, 0],\n",
       "       ...,\n",
       "       [1, 1, 1, ..., 0, 0, 0],\n",
       "       [1, 1, 1, ..., 0, 0, 0],\n",
       "       [1, 1, 1, ..., 0, 0, 0]], dtype=int32)>}"
      ]
     },
     "execution_count": 12,
     "metadata": {},
     "output_type": "execute_result"
    }
   ],
   "source": [
    "encoded_train"
   ]
  },
  {
   "cell_type": "markdown",
   "id": "b7aa1eb9",
   "metadata": {
    "papermill": {
     "duration": 0.014239,
     "end_time": "2023-11-19T19:09:49.439129",
     "exception": false,
     "start_time": "2023-11-19T19:09:49.424890",
     "status": "completed"
    },
    "tags": []
   },
   "source": [
    "# Feature Engineering and Model Training"
   ]
  },
  {
   "cell_type": "markdown",
   "id": "46e12a86",
   "metadata": {
    "papermill": {
     "duration": 0.014076,
     "end_time": "2023-11-19T19:09:49.467493",
     "exception": false,
     "start_time": "2023-11-19T19:09:49.453417",
     "status": "completed"
    },
    "tags": []
   },
   "source": [
    "Convert the encoded texts to TensorFlow Datasets"
   ]
  },
  {
   "cell_type": "code",
   "execution_count": 13,
   "id": "9e19f633",
   "metadata": {
    "execution": {
     "iopub.execute_input": "2023-11-19T19:09:49.497798Z",
     "iopub.status.busy": "2023-11-19T19:09:49.497443Z",
     "iopub.status.idle": "2023-11-19T19:11:39.234349Z",
     "shell.execute_reply": "2023-11-19T19:11:39.233130Z"
    },
    "papermill": {
     "duration": 109.755646,
     "end_time": "2023-11-19T19:11:39.237517",
     "exception": false,
     "start_time": "2023-11-19T19:09:49.481871",
     "status": "completed"
    },
    "tags": []
   },
   "outputs": [],
   "source": [
    "train_dataset = tf.data.Dataset.from_tensor_slices((\n",
    "    {'input_ids': list(encoded_train['input_ids'].numpy()),\n",
    "     'attention_mask': list(encoded_train['attention_mask'].numpy())},\n",
    "    train_data.sentiment.values\n",
    "))\n",
    "test_dataset = tf.data.Dataset.from_tensor_slices((\n",
    "    {'input_ids': list(encoded_test['input_ids'].numpy()),\n",
    "     'attention_mask': list(encoded_test['attention_mask'].numpy())},\n",
    "    test_data.sentiment.values\n",
    "))\n",
    "val_dataset = tf.data.Dataset.from_tensor_slices((\n",
    "    {'input_ids': list(encoded_val['input_ids'].numpy()),\n",
    "     'attention_mask': list(encoded_val['attention_mask'].numpy())},\n",
    "    val_data.sentiment.values\n",
    "))"
   ]
  },
  {
   "cell_type": "code",
   "execution_count": 14,
   "id": "f33d2891",
   "metadata": {
    "execution": {
     "iopub.execute_input": "2023-11-19T19:11:39.271351Z",
     "iopub.status.busy": "2023-11-19T19:11:39.270513Z",
     "iopub.status.idle": "2023-11-19T19:11:39.297174Z",
     "shell.execute_reply": "2023-11-19T19:11:39.296308Z"
    },
    "papermill": {
     "duration": 0.045619,
     "end_time": "2023-11-19T19:11:39.299211",
     "exception": false,
     "start_time": "2023-11-19T19:11:39.253592",
     "status": "completed"
    },
    "tags": []
   },
   "outputs": [
    {
     "data": {
      "text/plain": [
       "<CacheDataset element_spec=({'input_ids': TensorSpec(shape=(None, 64), dtype=tf.int32, name=None), 'attention_mask': TensorSpec(shape=(None, 64), dtype=tf.int32, name=None)}, TensorSpec(shape=(None,), dtype=tf.int64, name=None))>"
      ]
     },
     "execution_count": 14,
     "metadata": {},
     "output_type": "execute_result"
    }
   ],
   "source": [
    "batch_size = 128\n",
    "train_dataset = train_dataset.shuffle(1000)\n",
    "train_dataset = train_dataset.batch(batch_size)\n",
    "train_dataset = train_dataset.prefetch(tf.data.AUTOTUNE)\n",
    "train_dataset = train_dataset.cache()\n",
    "train_dataset"
   ]
  },
  {
   "cell_type": "code",
   "execution_count": 15,
   "id": "2f8164d4",
   "metadata": {
    "execution": {
     "iopub.execute_input": "2023-11-19T19:11:39.331138Z",
     "iopub.status.busy": "2023-11-19T19:11:39.330825Z",
     "iopub.status.idle": "2023-11-19T23:45:50.396875Z",
     "shell.execute_reply": "2023-11-19T23:45:50.395827Z"
    },
    "papermill": {
     "duration": 16452.584973,
     "end_time": "2023-11-19T23:45:51.899686",
     "exception": false,
     "start_time": "2023-11-19T19:11:39.314713",
     "status": "completed"
    },
    "tags": []
   },
   "outputs": [
    {
     "data": {
      "application/vnd.jupyter.widget-view+json": {
       "model_id": "35a3c3687995418c88f44517281086ac",
       "version_major": 2,
       "version_minor": 0
      },
      "text/plain": [
       "Downloading model.safetensors:   0%|          | 0.00/440M [00:00<?, ?B/s]"
      ]
     },
     "metadata": {},
     "output_type": "display_data"
    },
    {
     "name": "stderr",
     "output_type": "stream",
     "text": [
      "All PyTorch model weights were used when initializing TFBertForSequenceClassification.\n",
      "\n",
      "Some weights or buffers of the TF 2.0 model TFBertForSequenceClassification were not initialized from the PyTorch model and are newly initialized: ['classifier.weight', 'classifier.bias']\n",
      "You should probably TRAIN this model on a down-stream task to be able to use it for predictions and inference.\n"
     ]
    },
    {
     "name": "stdout",
     "output_type": "stream",
     "text": [
      "Epoch 1/2\n",
      "8896/8896 [==============================] - 8226s 919ms/step - loss: 0.4374 - accuracy: 0.7952 - val_loss: 0.4161 - val_accuracy: 0.8090\n",
      "Epoch 2/2\n",
      "8896/8896 [==============================] - 8219s 924ms/step - loss: 0.3852 - accuracy: 0.8258 - val_loss: 0.4201 - val_accuracy: 0.8114\n"
     ]
    },
    {
     "data": {
      "text/plain": [
       "<keras.callbacks.History at 0x7b1d8099d990>"
      ]
     },
     "execution_count": 15,
     "metadata": {},
     "output_type": "execute_result"
    }
   ],
   "source": [
    "# Initialize the BERT model for sequence classification\n",
    "model = TFBertForSequenceClassification.from_pretrained('bert-base-uncased')\n",
    "\n",
    "# Compile the model\n",
    "optimizer = tf.keras.optimizers.Adam(learning_rate=3e-5)\n",
    "loss = tf.keras.losses.SparseCategoricalCrossentropy(from_logits=True)\n",
    "model.compile(optimizer=optimizer, loss=loss, metrics=['accuracy'])\n",
    "\n",
    "# Train the model\n",
    "model.fit(train_dataset, epochs=2, batch_size=batch_size, validation_data=val_dataset.batch(batch_size))"
   ]
  },
  {
   "cell_type": "markdown",
   "id": "9baebb41",
   "metadata": {
    "papermill": {
     "duration": 1.514184,
     "end_time": "2023-11-19T23:45:54.815455",
     "exception": false,
     "start_time": "2023-11-19T23:45:53.301271",
     "status": "completed"
    },
    "tags": []
   },
   "source": [
    "# Model Evaluation"
   ]
  },
  {
   "cell_type": "code",
   "execution_count": 16,
   "id": "85ff4890",
   "metadata": {
    "execution": {
     "iopub.execute_input": "2023-11-19T23:45:57.642041Z",
     "iopub.status.busy": "2023-11-19T23:45:57.641667Z",
     "iopub.status.idle": "2023-11-19T23:51:54.550093Z",
     "shell.execute_reply": "2023-11-19T23:51:54.548988Z"
    },
    "papermill": {
     "duration": 358.336486,
     "end_time": "2023-11-19T23:51:54.552389",
     "exception": false,
     "start_time": "2023-11-19T23:45:56.215903",
     "status": "completed"
    },
    "tags": []
   },
   "outputs": [
    {
     "name": "stdout",
     "output_type": "stream",
     "text": [
      "1236/1236 [==============================] - 356s 286ms/step\n"
     ]
    }
   ],
   "source": [
    "y_true = test_data.sentiment.values\n",
    "y_pred = model.predict(test_dataset.batch(batch_size))"
   ]
  },
  {
   "cell_type": "code",
   "execution_count": 17,
   "id": "c08c9722",
   "metadata": {
    "execution": {
     "iopub.execute_input": "2023-11-19T23:51:57.716157Z",
     "iopub.status.busy": "2023-11-19T23:51:57.715407Z",
     "iopub.status.idle": "2023-11-19T23:51:57.925067Z",
     "shell.execute_reply": "2023-11-19T23:51:57.924132Z"
    },
    "papermill": {
     "duration": 1.779914,
     "end_time": "2023-11-19T23:51:57.927766",
     "exception": false,
     "start_time": "2023-11-19T23:51:56.147852",
     "status": "completed"
    },
    "tags": []
   },
   "outputs": [
    {
     "data": {
      "image/png": "[encoded data removed]",
      "text/plain": [
       "<Figure size 600x600 with 1 Axes>"
      ]
     },
     "metadata": {},
     "output_type": "display_data"
    }
   ],
   "source": [
    "# Create a confusion matrix\n",
    "cm = confusion_matrix(y_true, tf.argmax(y_pred.logits, 1))\n",
    "\n",
    "# Visualize the confusion matrix\n",
    "plt.figure(figsize=(6, 6))\n",
    "sns.heatmap(cm, annot=True, fmt='d', cmap='Blues', cbar=False, annot_kws={\"size\": 15})\n",
    "plt.xlabel('Predicted Labels')\n",
    "plt.ylabel('True Labels')\n",
    "plt.title('Confusion Matrix')\n",
    "plt.show()"
   ]
  },
  {
   "cell_type": "code",
   "execution_count": 18,
   "id": "2acfa4b0",
   "metadata": {
    "execution": {
     "iopub.execute_input": "2023-11-19T23:52:01.025169Z",
     "iopub.status.busy": "2023-11-19T23:52:01.024794Z",
     "iopub.status.idle": "2023-11-19T23:57:55.550976Z",
     "shell.execute_reply": "2023-11-19T23:57:55.549938Z"
    },
    "papermill": {
     "duration": 357.632862,
     "end_time": "2023-11-19T23:57:57.158675",
     "exception": false,
     "start_time": "2023-11-19T23:51:59.525813",
     "status": "completed"
    },
    "tags": []
   },
   "outputs": [
    {
     "name": "stdout",
     "output_type": "stream",
     "text": [
      "1236/1236 - 355s - loss: 0.4198 - accuracy: 0.8119 - 355s/epoch - 287ms/step\n"
     ]
    },
    {
     "data": {
      "text/plain": [
       "[0.41984686255455017, 0.8119091987609863]"
      ]
     },
     "execution_count": 18,
     "metadata": {},
     "output_type": "execute_result"
    }
   ],
   "source": [
    "# Evaluate the model\n",
    "model.evaluate(test_dataset.batch(batch_size), verbose=2)"
   ]
  },
  {
   "cell_type": "markdown",
   "id": "009d94d9",
   "metadata": {
    "papermill": {
     "duration": 1.587468,
     "end_time": "2023-11-19T23:58:00.239259",
     "exception": false,
     "start_time": "2023-11-19T23:57:58.651791",
     "status": "completed"
    },
    "tags": []
   },
   "source": [
    "# Model Testing"
   ]
  },
  {
   "cell_type": "markdown",
   "id": "567e4809",
   "metadata": {
    "papermill": {
     "duration": 1.594532,
     "end_time": "2023-11-19T23:58:03.332963",
     "exception": false,
     "start_time": "2023-11-19T23:58:01.738431",
     "status": "completed"
    },
    "tags": []
   },
   "source": [
    "See the results"
   ]
  },
  {
   "cell_type": "code",
   "execution_count": 19,
   "id": "ee18dc2d",
   "metadata": {
    "execution": {
     "iopub.execute_input": "2023-11-19T23:58:06.329827Z",
     "iopub.status.busy": "2023-11-19T23:58:06.328984Z",
     "iopub.status.idle": "2023-11-19T23:58:09.295224Z",
     "shell.execute_reply": "2023-11-19T23:58:09.294119Z"
    },
    "papermill": {
     "duration": 4.463872,
     "end_time": "2023-11-19T23:58:09.297208",
     "exception": false,
     "start_time": "2023-11-19T23:58:04.833336",
     "status": "completed"
    },
    "tags": []
   },
   "outputs": [
    {
     "name": "stdout",
     "output_type": "stream",
     "text": [
      "1/1 [==============================] - 3s 3s/step\n",
      "TFSequenceClassifierOutput(loss=None, logits=array([[-1.5348996 ,  1.4784311 ],\n",
      "       [-1.9414012 ,  1.8908291 ],\n",
      "       [-2.31826   ,  2.784451  ],\n",
      "       [-2.0238087 ,  2.4916437 ],\n",
      "       [-1.8040324 ,  1.928266  ],\n",
      "       [-1.5152403 ,  1.3708977 ],\n",
      "       [-1.2647259 ,  1.6038808 ],\n",
      "       [-1.2800016 ,  1.3966693 ],\n",
      "       [-2.0965931 ,  2.463752  ],\n",
      "       [-2.3158348 ,  2.7040393 ],\n",
      "       [ 2.296519  , -2.3241549 ],\n",
      "       [ 2.2705646 , -2.2707474 ],\n",
      "       [ 2.350703  , -2.449372  ],\n",
      "       [ 1.8302263 , -1.939936  ],\n",
      "       [ 1.7076412 , -1.8339626 ],\n",
      "       [ 2.470401  , -2.4413455 ],\n",
      "       [ 2.2529993 , -2.3184493 ],\n",
      "       [ 2.6031735 , -2.6323454 ],\n",
      "       [ 2.6515682 , -2.6533809 ],\n",
      "       [ 0.23527566, -0.3835272 ]], dtype=float32), hidden_states=None, attentions=None)\n"
     ]
    }
   ],
   "source": [
    "positive_tweets = [\n",
    "    \"Just had the best day ever! #FeelingBlessed 😊\",\n",
    "    \"Celebrating success with my amazing team! 🎉 #TeamWork\",\n",
    "    \"Enjoying a beautiful sunset at the beach. Life is good! 🌅 #Grateful\",\n",
    "    \"This new song is my jam! 🎶 #MusicLover\",\n",
    "    \"Excited for the weekend getaway with friends! 🚗 #WeekendVibes\",\n",
    "    \"Achieved a major milestone today. Hard work pays off! 💪 #Success\",\n",
    "    \"The support from my friends and family means everything to me. ❤️ #Love\",\n",
    "    \"Positive vibes only! ✨ #Positivity\",\n",
    "    \"Loving the positive energy around me. 😄 #GoodVibes\",\n",
    "    \"Movie night with loved ones. Perfect way to relax! 🍿 #FamilyTime\"\n",
    "]\n",
    "\n",
    "negative_tweets = [\n",
    "    \"Feeling so stressed out with work deadlines. 😓 #Stressed\",\n",
    "    \"Everything seems to be going wrong today. 😞 #BadDay\",\n",
    "    \"Dealing with a major setback. Can't catch a break. 😔 #Struggle\",\n",
    "    \"This weather is ruining my plans. ☔ #WeatherWoes\",\n",
    "    \"Stuck in traffic again. Just what I needed. 🚗 #TrafficJam\",\n",
    "    \"Can't believe I lost my wallet. What a disaster! 😫 #LostAndFound\",\n",
    "    \"Frustrated with technology. Nothing is working as it should. 🤬 #TechIssues\",\n",
    "    \"Not feeling well today. 😷 #SickDay\",\n",
    "    \"Relationship troubles are taking a toll on my mood. 💔 #Heartache\",\n",
    "    \"Why does Monday have to come so quickly? 😩 #MondayBlues\",\n",
    "]\n",
    "\n",
    "sample_texts = list(map(preprocess_text, positive_tweets)) + list(map(preprocess_text, negative_tweets))\n",
    "sample_encodings = tokenizer.batch_encode_plus(sample_texts,\n",
    "                                            padding=True,\n",
    "                                            truncation=True,\n",
    "                                            add_special_tokens=True,\n",
    "                                            return_attention_mask=True,\n",
    "                                            max_length=64,\n",
    "                                            return_tensors='tf')\n",
    "sample_dataset = tf.data.Dataset.from_tensor_slices((\n",
    "    {'input_ids': list(sample_encodings['input_ids'].numpy()),\n",
    "     'attention_mask': list(sample_encodings['attention_mask'].numpy())}\n",
    "))\n",
    "predictions = model.predict(sample_dataset.batch(batch_size))\n",
    "print(predictions)"
   ]
  },
  {
   "cell_type": "markdown",
   "id": "4d2b1d4a",
   "metadata": {
    "papermill": {
     "duration": 1.493966,
     "end_time": "2023-11-19T23:58:12.446018",
     "exception": false,
     "start_time": "2023-11-19T23:58:10.952052",
     "status": "completed"
    },
    "tags": []
   },
   "source": [
    "Display the predicted sentiments"
   ]
  },
  {
   "cell_type": "code",
   "execution_count": 20,
   "id": "46622a94",
   "metadata": {
    "execution": {
     "iopub.execute_input": "2023-11-19T23:58:15.533944Z",
     "iopub.status.busy": "2023-11-19T23:58:15.533544Z",
     "iopub.status.idle": "2023-11-19T23:58:15.540481Z",
     "shell.execute_reply": "2023-11-19T23:58:15.539559Z"
    },
    "papermill": {
     "duration": 1.505793,
     "end_time": "2023-11-19T23:58:15.542536",
     "exception": false,
     "start_time": "2023-11-19T23:58:14.036743",
     "status": "completed"
    },
    "tags": []
   },
   "outputs": [
    {
     "name": "stdout",
     "output_type": "stream",
     "text": [
      "Text: best day ever feelingbless 😊\n",
      "Predicted Sentiment: Positive\n",
      "\n",
      "Text: celebr success amaz team 🎉 teamwork\n",
      "Predicted Sentiment: Positive\n",
      "\n",
      "Text: enjoy beauti sunset beach life good 🌅 grate\n",
      "Predicted Sentiment: Positive\n",
      "\n",
      "Text: new song jam 🎶 musiclov\n",
      "Predicted Sentiment: Positive\n",
      "\n",
      "Text: excit weekend getaway friend 🚗 weekendvib\n",
      "Predicted Sentiment: Positive\n",
      "\n",
      "Text: achiev major mileston today hard work pay 💪 success\n",
      "Predicted Sentiment: Positive\n",
      "\n",
      "Text: support friend famili mean everyth ❤️ love\n",
      "Predicted Sentiment: Positive\n",
      "\n",
      "Text: posit vibe ✨ posit\n",
      "Predicted Sentiment: Positive\n",
      "\n",
      "Text: love posit energi around 😄 goodvib\n",
      "Predicted Sentiment: Positive\n",
      "\n",
      "Text: movi night love one perfect way relax 🍿 familytim\n",
      "Predicted Sentiment: Positive\n",
      "\n",
      "Text: feel stress work deadlin 😓 stress\n",
      "Predicted Sentiment: Negative\n",
      "\n",
      "Text: everyth seem go wrong today 😞 badday\n",
      "Predicted Sentiment: Negative\n",
      "\n",
      "Text: deal major setback cant catch break 😔 struggl\n",
      "Predicted Sentiment: Negative\n",
      "\n",
      "Text: weather ruin plan ☔ weatherwo\n",
      "Predicted Sentiment: Negative\n",
      "\n",
      "Text: stuck traffic need 🚗 trafficjam\n",
      "Predicted Sentiment: Negative\n",
      "\n",
      "Text: cant believ lost wallet disast 😫 lostandfound\n",
      "Predicted Sentiment: Negative\n",
      "\n",
      "Text: frustrat technolog noth work 🤬 techissu\n",
      "Predicted Sentiment: Negative\n",
      "\n",
      "Text: feel well today 😷 sickday\n",
      "Predicted Sentiment: Negative\n",
      "\n",
      "Text: relationship troubl take toll mood 💔 heartach\n",
      "Predicted Sentiment: Negative\n",
      "\n",
      "Text: monday come quickli 😩 mondayblu\n",
      "Predicted Sentiment: Negative\n",
      "\n"
     ]
    }
   ],
   "source": [
    "sentiments = ['Negative', 'Positive']\n",
    "for i in range(len(sample_texts)):\n",
    "    pred_label = np.argmax(predictions.logits[i])\n",
    "    print(f\"Text: {sample_texts[i]}\")\n",
    "    print(f\"Predicted Sentiment: {sentiments[pred_label]}\")\n",
    "    print()"
   ]
  },
  {
   "cell_type": "code",
   "execution_count": null,
   "id": "ec4bc6ca",
   "metadata": {
    "papermill": {
     "duration": 1.498687,
     "end_time": "2023-11-19T23:58:18.662390",
     "exception": false,
     "start_time": "2023-11-19T23:58:17.163703",
     "status": "completed"
    },
    "tags": []
   },
   "outputs": [],
   "source": []
  }
 ],
 "metadata": {
  "kaggle": {
   "accelerator": "gpu",
   "dataSources": [
    {
     "datasetId": 2477,
     "sourceId": 4140,
     "sourceType": "datasetVersion"
    }
   ],
   "dockerImageVersionId": 30558,
   "isGpuEnabled": true,
   "isInternetEnabled": true,
   "language": "python",
   "sourceType": "notebook"
  },
  "kernelspec": {
   "display_name": "Python 3",
   "language": "python",
   "name": "python3"
  },
  "language_info": {
   "codemirror_mode": {
    "name": "ipython",
    "version": 3
   },
   "file_extension": ".py",
   "mimetype": "text/x-python",
   "name": "python",
   "nbconvert_exporter": "python",
   "pygments_lexer": "ipython3",
   "version": "3.10.12"
  },
  "papermill": {
   "default_parameters": {},
   "duration": 18373.855904,
   "end_time": "2023-11-19T23:58:23.699713",
   "environment_variables": {},
   "exception": null,
   "input_path": "__notebook__.ipynb",
   "output_path": "__notebook__.ipynb",
   "parameters": {},
   "start_time": "2023-11-19T18:52:09.843809",
   "version": "2.4.0"
  },
  "widgets": {
   "application/vnd.jupyter.widget-state+json": {
    "state": {
     "02a2c81ce6a3495a87d9d666432b9e93": {
      "model_module": "@jupyter-widgets/base",
      "model_module_version": "1.2.0",
      "model_name": "LayoutModel",
      "state": {
       "_model_module": "@jupyter-widgets/base",
       "_model_module_version": "1.2.0",
       "_model_name": "LayoutModel",
       "_view_count": null,
       "_view_module": "@jupyter-widgets/base",
       "_view_module_version": "1.2.0",
       "_view_name": "LayoutView",
       "align_content": null,
       "align_items": null,
       "align_self": null,
       "border": null,
       "bottom": null,
       "display": null,
       "flex": null,
       "flex_flow": null,
       "grid_area": null,
       "grid_auto_columns": null,
       "grid_auto_flow": null,
       "grid_auto_rows": null,
       "grid_column": null,
       "grid_gap": null,
       "grid_row": null,
       "grid_template_areas": null,
       "grid_template_columns": null,
       "grid_template_rows": null,
       "height": null,
       "justify_content": null,
       "justify_items": null,
       "left": null,
       "margin": null,
       "max_height": null,
       "max_width": null,
       "min_height": null,
       "min_width": null,
       "object_fit": null,
       "object_position": null,
       "order": null,
       "overflow": null,
       "overflow_x": null,
       "overflow_y": null,
       "padding": null,
       "right": null,
       "top": null,
       "visibility": null,
       "width": null
      }
     },
     "030af0868d1e42fca7143fbfa00a8bf3": {
      "model_module": "@jupyter-widgets/controls",
      "model_module_version": "1.5.0",
      "model_name": "FloatProgressModel",
      "state": {
       "_dom_classes": [],
       "_model_module": "@jupyter-widgets/controls",
       "_model_module_version": "1.5.0",
       "_model_name": "FloatProgressModel",
       "_view_count": null,
       "_view_module": "@jupyter-widgets/controls",
       "_view_module_version": "1.5.0",
       "_view_name": "ProgressView",
       "bar_style": "success",
       "description": "",
       "description_tooltip": null,
       "layout": "IPY_MODEL_90476ae2b7124aee99ab4201501035c8",
       "max": 231508.0,
       "min": 0.0,
       "orientation": "horizontal",
       "style": "IPY_MODEL_2c17bd603a7a4344835c2601d995e556",
       "value": 231508.0
      }
     },
     "0a6cede4fce841cd9c9b219f1b124971": {
      "model_module": "@jupyter-widgets/base",
      "model_module_version": "1.2.0",
      "model_name": "LayoutModel",
      "state": {
       "_model_module": "@jupyter-widgets/base",
       "_model_module_version": "1.2.0",
       "_model_name": "LayoutModel",
       "_view_count": null,
       "_view_module": "@jupyter-widgets/base",
       "_view_module_version": "1.2.0",
       "_view_name": "LayoutView",
       "align_content": null,
       "align_items": null,
       "align_self": null,
       "border": null,
       "bottom": null,
       "display": null,
       "flex": null,
       "flex_flow": null,
       "grid_area": null,
       "grid_auto_columns": null,
       "grid_auto_flow": null,
       "grid_auto_rows": null,
       "grid_column": null,
       "grid_gap": null,
       "grid_row": null,
       "grid_template_areas": null,
       "grid_template_columns": null,
       "grid_template_rows": null,
       "height": null,
       "justify_content": null,
       "justify_items": null,
       "left": null,
       "margin": null,
       "max_height": null,
       "max_width": null,
       "min_height": null,
       "min_width": null,
       "object_fit": null,
       "object_position": null,
       "order": null,
       "overflow": null,
       "overflow_x": null,
       "overflow_y": null,
       "padding": null,
       "right": null,
       "top": null,
       "visibility": null,
       "width": null
      }
     },
     "0b53e04c189b435d9eab221958fe4c02": {
      "model_module": "@jupyter-widgets/base",
      "model_module_version": "1.2.0",
      "model_name": "LayoutModel",
      "state": {
       "_model_module": "@jupyter-widgets/base",
       "_model_module_version": "1.2.0",
       "_model_name": "LayoutModel",
       "_view_count": null,
       "_view_module": "@jupyter-widgets/base",
       "_view_module_version": "1.2.0",
       "_view_name": "LayoutView",
       "align_content": null,
       "align_items": null,
       "align_self": null,
       "border": null,
       "bottom": null,
       "display": null,
       "flex": null,
       "flex_flow": null,
       "grid_area": null,
       "grid_auto_columns": null,
       "grid_auto_flow": null,
       "grid_auto_rows": null,
       "grid_column": null,
       "grid_gap": null,
       "grid_row": null,
       "grid_template_areas": null,
       "grid_template_columns": null,
       "grid_template_rows": null,
       "height": null,
       "justify_content": null,
       "justify_items": null,
       "left": null,
       "margin": null,
       "max_height": null,
       "max_width": null,
       "min_height": null,
       "min_width": null,
       "object_fit": null,
       "object_position": null,
       "order": null,
       "overflow": null,
       "overflow_x": null,
       "overflow_y": null,
       "padding": null,
       "right": null,
       "top": null,
       "visibility": null,
       "width": null
      }
     },
     "0e7bc3dba2c04ee9a7ae0ee04d9629ee": {
      "model_module": "@jupyter-widgets/controls",
      "model_module_version": "1.5.0",
      "model_name": "HTMLModel",
      "state": {
       "_dom_classes": [],
       "_model_module": "@jupyter-widgets/controls",
       "_model_module_version": "1.5.0",
       "_model_name": "HTMLModel",
       "_view_count": null,
       "_view_module": "@jupyter-widgets/controls",
       "_view_module_version": "1.5.0",
       "_view_name": "HTMLView",
       "description": "",
       "description_tooltip": null,
       "layout": "IPY_MODEL_5db605bd808442b9a31e7818dd02b173",
       "placeholder": "​",
       "style": "IPY_MODEL_ef057eea93f24deea437fd73331863b2",
       "value": "Downloading vocab.txt: 100%"
      }
     },
     "0fd9d77cd6a34dea8497025b3efc6ff9": {
      "model_module": "@jupyter-widgets/controls",
      "model_module_version": "1.5.0",
      "model_name": "HBoxModel",
      "state": {
       "_dom_classes": [],
       "_model_module": "@jupyter-widgets/controls",
       "_model_module_version": "1.5.0",
       "_model_name": "HBoxModel",
       "_view_count": null,
       "_view_module": "@jupyter-widgets/controls",
       "_view_module_version": "1.5.0",
       "_view_name": "HBoxView",
       "box_style": "",
       "children": [
        "IPY_MODEL_a8500918e029450aa9a0d3a05133bea0",
        "IPY_MODEL_4e1ae7a7f16242db80d32c61e68db7d8",
        "IPY_MODEL_c2c64c77b58f48ac8ad75cdb9ac90a85"
       ],
       "layout": "IPY_MODEL_0b53e04c189b435d9eab221958fe4c02"
      }
     },
     "18d448eb2df74add91937a927454c43b": {
      "model_module": "@jupyter-widgets/base",
      "model_module_version": "1.2.0",
      "model_name": "LayoutModel",
      "state": {
       "_model_module": "@jupyter-widgets/base",
       "_model_module_version": "1.2.0",
       "_model_name": "LayoutModel",
       "_view_count": null,
       "_view_module": "@jupyter-widgets/base",
       "_view_module_version": "1.2.0",
       "_view_name": "LayoutView",
       "align_content": null,
       "align_items": null,
       "align_self": null,
       "border": null,
       "bottom": null,
       "display": null,
       "flex": null,
       "flex_flow": null,
       "grid_area": null,
       "grid_auto_columns": null,
       "grid_auto_flow": null,
       "grid_auto_rows": null,
       "grid_column": null,
       "grid_gap": null,
       "grid_row": null,
       "grid_template_areas": null,
       "grid_template_columns": null,
       "grid_template_rows": null,
       "height": null,
       "justify_content": null,
       "justify_items": null,
       "left": null,
       "margin": null,
       "max_height": null,
       "max_width": null,
       "min_height": null,
       "min_width": null,
       "object_fit": null,
       "object_position": null,
       "order": null,
       "overflow": null,
       "overflow_x": null,
       "overflow_y": null,
       "padding": null,
       "right": null,
       "top": null,
       "visibility": null,
       "width": null
      }
     },
     "1ad7605dba764fa8908c6c3ae90daca4": {
      "model_module": "@jupyter-widgets/controls",
      "model_module_version": "1.5.0",
      "model_name": "DescriptionStyleModel",
      "state": {
       "_model_module": "@jupyter-widgets/controls",
       "_model_module_version": "1.5.0",
       "_model_name": "DescriptionStyleModel",
       "_view_count": null,
       "_view_module": "@jupyter-widgets/base",
       "_view_module_version": "1.2.0",
       "_view_name": "StyleView",
       "description_width": ""
      }
     },
     "219121eb1a494051bb1bdcca386a4ecb": {
      "model_module": "@jupyter-widgets/controls",
      "model_module_version": "1.5.0",
      "model_name": "HBoxModel",
      "state": {
       "_dom_classes": [],
       "_model_module": "@jupyter-widgets/controls",
       "_model_module_version": "1.5.0",
       "_model_name": "HBoxModel",
       "_view_count": null,
       "_view_module": "@jupyter-widgets/controls",
       "_view_module_version": "1.5.0",
       "_view_name": "HBoxView",
       "box_style": "",
       "children": [
        "IPY_MODEL_d5112bb0a9c34c1a8983bbb72397caea",
        "IPY_MODEL_26e4cac1c6774ed4b57326cda243f8fa",
        "IPY_MODEL_300c30d8637649d09a656f45a257039e"
       ],
       "layout": "IPY_MODEL_a8f02f3ae70d426fa00ab69fff521d46"
      }
     },
     "241fd619ed3e4c4e84e99f39b9c3e165": {
      "model_module": "@jupyter-widgets/controls",
      "model_module_version": "1.5.0",
      "model_name": "DescriptionStyleModel",
      "state": {
       "_model_module": "@jupyter-widgets/controls",
       "_model_module_version": "1.5.0",
       "_model_name": "DescriptionStyleModel",
       "_view_count": null,
       "_view_module": "@jupyter-widgets/base",
       "_view_module_version": "1.2.0",
       "_view_name": "StyleView",
       "description_width": ""
      }
     },
     "26e4cac1c6774ed4b57326cda243f8fa": {
      "model_module": "@jupyter-widgets/controls",
      "model_module_version": "1.5.0",
      "model_name": "FloatProgressModel",
      "state": {
       "_dom_classes": [],
       "_model_module": "@jupyter-widgets/controls",
       "_model_module_version": "1.5.0",
       "_model_name": "FloatProgressModel",
       "_view_count": null,
       "_view_module": "@jupyter-widgets/controls",
       "_view_module_version": "1.5.0",
       "_view_name": "ProgressView",
       "bar_style": "success",
       "description": "",
       "description_tooltip": null,
       "layout": "IPY_MODEL_18d448eb2df74add91937a927454c43b",
       "max": 570.0,
       "min": 0.0,
       "orientation": "horizontal",
       "style": "IPY_MODEL_3234ab36b9d2420895a03f6be961703a",
       "value": 570.0
      }
     },
     "2c17bd603a7a4344835c2601d995e556": {
      "model_module": "@jupyter-widgets/controls",
      "model_module_version": "1.5.0",
      "model_name": "ProgressStyleModel",
      "state": {
       "_model_module": "@jupyter-widgets/controls",
       "_model_module_version": "1.5.0",
       "_model_name": "ProgressStyleModel",
       "_view_count": null,
       "_view_module": "@jupyter-widgets/base",
       "_view_module_version": "1.2.0",
       "_view_name": "StyleView",
       "bar_color": null,
       "description_width": ""
      }
     },
     "300c30d8637649d09a656f45a257039e": {
      "model_module": "@jupyter-widgets/controls",
      "model_module_version": "1.5.0",
      "model_name": "HTMLModel",
      "state": {
       "_dom_classes": [],
       "_model_module": "@jupyter-widgets/controls",
       "_model_module_version": "1.5.0",
       "_model_name": "HTMLModel",
       "_view_count": null,
       "_view_module": "@jupyter-widgets/controls",
       "_view_module_version": "1.5.0",
       "_view_name": "HTMLView",
       "description": "",
       "description_tooltip": null,
       "layout": "IPY_MODEL_9281c6a2c0e24931abe2ef2d4970fc76",
       "placeholder": "​",
       "style": "IPY_MODEL_d1698fd8fa7346fea790910ed9b42022",
       "value": " 570/570 [00:00&lt;00:00, 49.9kB/s]"
      }
     },
     "3234ab36b9d2420895a03f6be961703a": {
      "model_module": "@jupyter-widgets/controls",
      "model_module_version": "1.5.0",
      "model_name": "ProgressStyleModel",
      "state": {
       "_model_module": "@jupyter-widgets/controls",
       "_model_module_version": "1.5.0",
       "_model_name": "ProgressStyleModel",
       "_view_count": null,
       "_view_module": "@jupyter-widgets/base",
       "_view_module_version": "1.2.0",
       "_view_name": "StyleView",
       "bar_color": null,
       "description_width": ""
      }
     },
     "35a3c3687995418c88f44517281086ac": {
      "model_module": "@jupyter-widgets/controls",
      "model_module_version": "1.5.0",
      "model_name": "HBoxModel",
      "state": {
       "_dom_classes": [],
       "_model_module": "@jupyter-widgets/controls",
       "_model_module_version": "1.5.0",
       "_model_name": "HBoxModel",
       "_view_count": null,
       "_view_module": "@jupyter-widgets/controls",
       "_view_module_version": "1.5.0",
       "_view_name": "HBoxView",
       "box_style": "",
       "children": [
        "IPY_MODEL_c0785a55d9aa434d85bf2aa80d6d8263",
        "IPY_MODEL_9ceca6504e4a494f892295430eb25da7",
        "IPY_MODEL_a920eb2745e442179f8e3136bdacd9ac"
       ],
       "layout": "IPY_MODEL_de4cc34abc3c40eda6bd962c5a6771e9"
      }
     },
     "42423a27f937413f8acdb6e089a54c75": {
      "model_module": "@jupyter-widgets/controls",
      "model_module_version": "1.5.0",
      "model_name": "HBoxModel",
      "state": {
       "_dom_classes": [],
       "_model_module": "@jupyter-widgets/controls",
       "_model_module_version": "1.5.0",
       "_model_name": "HBoxModel",
       "_view_count": null,
       "_view_module": "@jupyter-widgets/controls",
       "_view_module_version": "1.5.0",
       "_view_name": "HBoxView",
       "box_style": "",
       "children": [
        "IPY_MODEL_0e7bc3dba2c04ee9a7ae0ee04d9629ee",
        "IPY_MODEL_030af0868d1e42fca7143fbfa00a8bf3",
        "IPY_MODEL_aa5953d3c64d4a4992203274d60798bf"
       ],
       "layout": "IPY_MODEL_9aeefb5ab60647119131d83d522cc3cb"
      }
     },
     "4e1ae7a7f16242db80d32c61e68db7d8": {
      "model_module": "@jupyter-widgets/controls",
      "model_module_version": "1.5.0",
      "model_name": "FloatProgressModel",
      "state": {
       "_dom_classes": [],
       "_model_module": "@jupyter-widgets/controls",
       "_model_module_version": "1.5.0",
       "_model_name": "FloatProgressModel",
       "_view_count": null,
       "_view_module": "@jupyter-widgets/controls",
       "_view_module_version": "1.5.0",
       "_view_name": "ProgressView",
       "bar_style": "success",
       "description": "",
       "description_tooltip": null,
       "layout": "IPY_MODEL_ef9d39ba78cb4210ade34c41692144fa",
       "max": 28.0,
       "min": 0.0,
       "orientation": "horizontal",
       "style": "IPY_MODEL_5b8668faf54f48a3a1ed66a59e9f77fc",
       "value": 28.0
      }
     },
     "5b8668faf54f48a3a1ed66a59e9f77fc": {
      "model_module": "@jupyter-widgets/controls",
      "model_module_version": "1.5.0",
      "model_name": "ProgressStyleModel",
      "state": {
       "_model_module": "@jupyter-widgets/controls",
       "_model_module_version": "1.5.0",
       "_model_name": "ProgressStyleModel",
       "_view_count": null,
       "_view_module": "@jupyter-widgets/base",
       "_view_module_version": "1.2.0",
       "_view_name": "StyleView",
       "bar_color": null,
       "description_width": ""
      }
     },
     "5db605bd808442b9a31e7818dd02b173": {
      "model_module": "@jupyter-widgets/base",
      "model_module_version": "1.2.0",
      "model_name": "LayoutModel",
      "state": {
       "_model_module": "@jupyter-widgets/base",
       "_model_module_version": "1.2.0",
       "_model_name": "LayoutModel",
       "_view_count": null,
       "_view_module": "@jupyter-widgets/base",
       "_view_module_version": "1.2.0",
       "_view_name": "LayoutView",
       "align_content": null,
       "align_items": null,
       "align_self": null,
       "border": null,
       "bottom": null,
       "display": null,
       "flex": null,
       "flex_flow": null,
       "grid_area": null,
       "grid_auto_columns": null,
       "grid_auto_flow": null,
       "grid_auto_rows": null,
       "grid_column": null,
       "grid_gap": null,
       "grid_row": null,
       "grid_template_areas": null,
       "grid_template_columns": null,
       "grid_template_rows": null,
       "height": null,
       "justify_content": null,
       "justify_items": null,
       "left": null,
       "margin": null,
       "max_height": null,
       "max_width": null,
       "min_height": null,
       "min_width": null,
       "object_fit": null,
       "object_position": null,
       "order": null,
       "overflow": null,
       "overflow_x": null,
       "overflow_y": null,
       "padding": null,
       "right": null,
       "top": null,
       "visibility": null,
       "width": null
      }
     },
     "90476ae2b7124aee99ab4201501035c8": {
      "model_module": "@jupyter-widgets/base",
      "model_module_version": "1.2.0",
      "model_name": "LayoutModel",
      "state": {
       "_model_module": "@jupyter-widgets/base",
       "_model_module_version": "1.2.0",
       "_model_name": "LayoutModel",
       "_view_count": null,
       "_view_module": "@jupyter-widgets/base",
       "_view_module_version": "1.2.0",
       "_view_name": "LayoutView",
       "align_content": null,
       "align_items": null,
       "align_self": null,
       "border": null,
       "bottom": null,
       "display": null,
       "flex": null,
       "flex_flow": null,
       "grid_area": null,
       "grid_auto_columns": null,
       "grid_auto_flow": null,
       "grid_auto_rows": null,
       "grid_column": null,
       "grid_gap": null,
       "grid_row": null,
       "grid_template_areas": null,
       "grid_template_columns": null,
       "grid_template_rows": null,
       "height": null,
       "justify_content": null,
       "justify_items": null,
       "left": null,
       "margin": null,
       "max_height": null,
       "max_width": null,
       "min_height": null,
       "min_width": null,
       "object_fit": null,
       "object_position": null,
       "order": null,
       "overflow": null,
       "overflow_x": null,
       "overflow_y": null,
       "padding": null,
       "right": null,
       "top": null,
       "visibility": null,
       "width": null
      }
     },
     "9281c6a2c0e24931abe2ef2d4970fc76": {
      "model_module": "@jupyter-widgets/base",
      "model_module_version": "1.2.0",
      "model_name": "LayoutModel",
      "state": {
       "_model_module": "@jupyter-widgets/base",
       "_model_module_version": "1.2.0",
       "_model_name": "LayoutModel",
       "_view_count": null,
       "_view_module": "@jupyter-widgets/base",
       "_view_module_version": "1.2.0",
       "_view_name": "LayoutView",
       "align_content": null,
       "align_items": null,
       "align_self": null,
       "border": null,
       "bottom": null,
       "display": null,
       "flex": null,
       "flex_flow": null,
       "grid_area": null,
       "grid_auto_columns": null,
       "grid_auto_flow": null,
       "grid_auto_rows": null,
       "grid_column": null,
       "grid_gap": null,
       "grid_row": null,
       "grid_template_areas": null,
       "grid_template_columns": null,
       "grid_template_rows": null,
       "height": null,
       "justify_content": null,
       "justify_items": null,
       "left": null,
       "margin": null,
       "max_height": null,
       "max_width": null,
       "min_height": null,
       "min_width": null,
       "object_fit": null,
       "object_position": null,
       "order": null,
       "overflow": null,
       "overflow_x": null,
       "overflow_y": null,
       "padding": null,
       "right": null,
       "top": null,
       "visibility": null,
       "width": null
      }
     },
     "9aeefb5ab60647119131d83d522cc3cb": {
      "model_module": "@jupyter-widgets/base",
      "model_module_version": "1.2.0",
      "model_name": "LayoutModel",
      "state": {
       "_model_module": "@jupyter-widgets/base",
       "_model_module_version": "1.2.0",
       "_model_name": "LayoutModel",
       "_view_count": null,
       "_view_module": "@jupyter-widgets/base",
       "_view_module_version": "1.2.0",
       "_view_name": "LayoutView",
       "align_content": null,
       "align_items": null,
       "align_self": null,
       "border": null,
       "bottom": null,
       "display": null,
       "flex": null,
       "flex_flow": null,
       "grid_area": null,
       "grid_auto_columns": null,
       "grid_auto_flow": null,
       "grid_auto_rows": null,
       "grid_column": null,
       "grid_gap": null,
       "grid_row": null,
       "grid_template_areas": null,
       "grid_template_columns": null,
       "grid_template_rows": null,
       "height": null,
       "justify_content": null,
       "justify_items": null,
       "left": null,
       "margin": null,
       "max_height": null,
       "max_width": null,
       "min_height": null,
       "min_width": null,
       "object_fit": null,
       "object_position": null,
       "order": null,
       "overflow": null,
       "overflow_x": null,
       "overflow_y": null,
       "padding": null,
       "right": null,
       "top": null,
       "visibility": null,
       "width": null
      }
     },
     "9ceca6504e4a494f892295430eb25da7": {
      "model_module": "@jupyter-widgets/controls",
      "model_module_version": "1.5.0",
      "model_name": "FloatProgressModel",
      "state": {
       "_dom_classes": [],
       "_model_module": "@jupyter-widgets/controls",
       "_model_module_version": "1.5.0",
       "_model_name": "FloatProgressModel",
       "_view_count": null,
       "_view_module": "@jupyter-widgets/controls",
       "_view_module_version": "1.5.0",
       "_view_name": "ProgressView",
       "bar_style": "success",
       "description": "",
       "description_tooltip": null,
       "layout": "IPY_MODEL_ec2f4f268c534e3bbf36bf1ed650381f",
       "max": 440449768.0,
       "min": 0.0,
       "orientation": "horizontal",
       "style": "IPY_MODEL_e4d7280d2d9e43b59289ac3cfa675003",
       "value": 440449768.0
      }
     },
     "9db128de051b4d3f9461745c56da1e0b": {
      "model_module": "@jupyter-widgets/base",
      "model_module_version": "1.2.0",
      "model_name": "LayoutModel",
      "state": {
       "_model_module": "@jupyter-widgets/base",
       "_model_module_version": "1.2.0",
       "_model_name": "LayoutModel",
       "_view_count": null,
       "_view_module": "@jupyter-widgets/base",
       "_view_module_version": "1.2.0",
       "_view_name": "LayoutView",
       "align_content": null,
       "align_items": null,
       "align_self": null,
       "border": null,
       "bottom": null,
       "display": null,
       "flex": null,
       "flex_flow": null,
       "grid_area": null,
       "grid_auto_columns": null,
       "grid_auto_flow": null,
       "grid_auto_rows": null,
       "grid_column": null,
       "grid_gap": null,
       "grid_row": null,
       "grid_template_areas": null,
       "grid_template_columns": null,
       "grid_template_rows": null,
       "height": null,
       "justify_content": null,
       "justify_items": null,
       "left": null,
       "margin": null,
       "max_height": null,
       "max_width": null,
       "min_height": null,
       "min_width": null,
       "object_fit": null,
       "object_position": null,
       "order": null,
       "overflow": null,
       "overflow_x": null,
       "overflow_y": null,
       "padding": null,
       "right": null,
       "top": null,
       "visibility": null,
       "width": null
      }
     },
     "a6f4587a2bac427cac467e55c12732bb": {
      "model_module": "@jupyter-widgets/base",
      "model_module_version": "1.2.0",
      "model_name": "LayoutModel",
      "state": {
       "_model_module": "@jupyter-widgets/base",
       "_model_module_version": "1.2.0",
       "_model_name": "LayoutModel",
       "_view_count": null,
       "_view_module": "@jupyter-widgets/base",
       "_view_module_version": "1.2.0",
       "_view_name": "LayoutView",
       "align_content": null,
       "align_items": null,
       "align_self": null,
       "border": null,
       "bottom": null,
       "display": null,
       "flex": null,
       "flex_flow": null,
       "grid_area": null,
       "grid_auto_columns": null,
       "grid_auto_flow": null,
       "grid_auto_rows": null,
       "grid_column": null,
       "grid_gap": null,
       "grid_row": null,
       "grid_template_areas": null,
       "grid_template_columns": null,
       "grid_template_rows": null,
       "height": null,
       "justify_content": null,
       "justify_items": null,
       "left": null,
       "margin": null,
       "max_height": null,
       "max_width": null,
       "min_height": null,
       "min_width": null,
       "object_fit": null,
       "object_position": null,
       "order": null,
       "overflow": null,
       "overflow_x": null,
       "overflow_y": null,
       "padding": null,
       "right": null,
       "top": null,
       "visibility": null,
       "width": null
      }
     },
     "a8500918e029450aa9a0d3a05133bea0": {
      "model_module": "@jupyter-widgets/controls",
      "model_module_version": "1.5.0",
      "model_name": "HTMLModel",
      "state": {
       "_dom_classes": [],
       "_model_module": "@jupyter-widgets/controls",
       "_model_module_version": "1.5.0",
       "_model_name": "HTMLModel",
       "_view_count": null,
       "_view_module": "@jupyter-widgets/controls",
       "_view_module_version": "1.5.0",
       "_view_name": "HTMLView",
       "description": "",
       "description_tooltip": null,
       "layout": "IPY_MODEL_a6f4587a2bac427cac467e55c12732bb",
       "placeholder": "​",
       "style": "IPY_MODEL_a88b58730d08478880d886d645ffa936",
       "value": "Downloading tokenizer_config.json: 100%"
      }
     },
     "a88b58730d08478880d886d645ffa936": {
      "model_module": "@jupyter-widgets/controls",
      "model_module_version": "1.5.0",
      "model_name": "DescriptionStyleModel",
      "state": {
       "_model_module": "@jupyter-widgets/controls",
       "_model_module_version": "1.5.0",
       "_model_name": "DescriptionStyleModel",
       "_view_count": null,
       "_view_module": "@jupyter-widgets/base",
       "_view_module_version": "1.2.0",
       "_view_name": "StyleView",
       "description_width": ""
      }
     },
     "a8f02f3ae70d426fa00ab69fff521d46": {
      "model_module": "@jupyter-widgets/base",
      "model_module_version": "1.2.0",
      "model_name": "LayoutModel",
      "state": {
       "_model_module": "@jupyter-widgets/base",
       "_model_module_version": "1.2.0",
       "_model_name": "LayoutModel",
       "_view_count": null,
       "_view_module": "@jupyter-widgets/base",
       "_view_module_version": "1.2.0",
       "_view_name": "LayoutView",
       "align_content": null,
       "align_items": null,
       "align_self": null,
       "border": null,
       "bottom": null,
       "display": null,
       "flex": null,
       "flex_flow": null,
       "grid_area": null,
       "grid_auto_columns": null,
       "grid_auto_flow": null,
       "grid_auto_rows": null,
       "grid_column": null,
       "grid_gap": null,
       "grid_row": null,
       "grid_template_areas": null,
       "grid_template_columns": null,
       "grid_template_rows": null,
       "height": null,
       "justify_content": null,
       "justify_items": null,
       "left": null,
       "margin": null,
       "max_height": null,
       "max_width": null,
       "min_height": null,
       "min_width": null,
       "object_fit": null,
       "object_position": null,
       "order": null,
       "overflow": null,
       "overflow_x": null,
       "overflow_y": null,
       "padding": null,
       "right": null,
       "top": null,
       "visibility": null,
       "width": null
      }
     },
     "a920eb2745e442179f8e3136bdacd9ac": {
      "model_module": "@jupyter-widgets/controls",
      "model_module_version": "1.5.0",
      "model_name": "HTMLModel",
      "state": {
       "_dom_classes": [],
       "_model_module": "@jupyter-widgets/controls",
       "_model_module_version": "1.5.0",
       "_model_name": "HTMLModel",
       "_view_count": null,
       "_view_module": "@jupyter-widgets/controls",
       "_view_module_version": "1.5.0",
       "_view_name": "HTMLView",
       "description": "",
       "description_tooltip": null,
       "layout": "IPY_MODEL_0a6cede4fce841cd9c9b219f1b124971",
       "placeholder": "​",
       "style": "IPY_MODEL_1ad7605dba764fa8908c6c3ae90daca4",
       "value": " 440M/440M [00:01&lt;00:00, 364MB/s]"
      }
     },
     "aa5953d3c64d4a4992203274d60798bf": {
      "model_module": "@jupyter-widgets/controls",
      "model_module_version": "1.5.0",
      "model_name": "HTMLModel",
      "state": {
       "_dom_classes": [],
       "_model_module": "@jupyter-widgets/controls",
       "_model_module_version": "1.5.0",
       "_model_name": "HTMLModel",
       "_view_count": null,
       "_view_module": "@jupyter-widgets/controls",
       "_view_module_version": "1.5.0",
       "_view_name": "HTMLView",
       "description": "",
       "description_tooltip": null,
       "layout": "IPY_MODEL_9db128de051b4d3f9461745c56da1e0b",
       "placeholder": "​",
       "style": "IPY_MODEL_c31460226d6943beb1ad0f90ee5b379b",
       "value": " 232k/232k [00:00&lt;00:00, 8.06MB/s]"
      }
     },
     "b3b8ad3078f1444e847cd980e965cf2e": {
      "model_module": "@jupyter-widgets/controls",
      "model_module_version": "1.5.0",
      "model_name": "DescriptionStyleModel",
      "state": {
       "_model_module": "@jupyter-widgets/controls",
       "_model_module_version": "1.5.0",
       "_model_name": "DescriptionStyleModel",
       "_view_count": null,
       "_view_module": "@jupyter-widgets/base",
       "_view_module_version": "1.2.0",
       "_view_name": "StyleView",
       "description_width": ""
      }
     },
     "c0785a55d9aa434d85bf2aa80d6d8263": {
      "model_module": "@jupyter-widgets/controls",
      "model_module_version": "1.5.0",
      "model_name": "HTMLModel",
      "state": {
       "_dom_classes": [],
       "_model_module": "@jupyter-widgets/controls",
       "_model_module_version": "1.5.0",
       "_model_name": "HTMLModel",
       "_view_count": null,
       "_view_module": "@jupyter-widgets/controls",
       "_view_module_version": "1.5.0",
       "_view_name": "HTMLView",
       "description": "",
       "description_tooltip": null,
       "layout": "IPY_MODEL_c6d84c7d47eb44d4a844e3227c6b07eb",
       "placeholder": "​",
       "style": "IPY_MODEL_b3b8ad3078f1444e847cd980e965cf2e",
       "value": "Downloading model.safetensors: 100%"
      }
     },
     "c2c64c77b58f48ac8ad75cdb9ac90a85": {
      "model_module": "@jupyter-widgets/controls",
      "model_module_version": "1.5.0",
      "model_name": "HTMLModel",
      "state": {
       "_dom_classes": [],
       "_model_module": "@jupyter-widgets/controls",
       "_model_module_version": "1.5.0",
       "_model_name": "HTMLModel",
       "_view_count": null,
       "_view_module": "@jupyter-widgets/controls",
       "_view_module_version": "1.5.0",
       "_view_name": "HTMLView",
       "description": "",
       "description_tooltip": null,
       "layout": "IPY_MODEL_02a2c81ce6a3495a87d9d666432b9e93",
       "placeholder": "​",
       "style": "IPY_MODEL_e855dc5e53ae4e27a24fcf5de4c0434e",
       "value": " 28.0/28.0 [00:00&lt;00:00, 2.40kB/s]"
      }
     },
     "c31460226d6943beb1ad0f90ee5b379b": {
      "model_module": "@jupyter-widgets/controls",
      "model_module_version": "1.5.0",
      "model_name": "DescriptionStyleModel",
      "state": {
       "_model_module": "@jupyter-widgets/controls",
       "_model_module_version": "1.5.0",
       "_model_name": "DescriptionStyleModel",
       "_view_count": null,
       "_view_module": "@jupyter-widgets/base",
       "_view_module_version": "1.2.0",
       "_view_name": "StyleView",
       "description_width": ""
      }
     },
     "c44e5c21ddbb4fb2900d81fe14a69bd1": {
      "model_module": "@jupyter-widgets/base",
      "model_module_version": "1.2.0",
      "model_name": "LayoutModel",
      "state": {
       "_model_module": "@jupyter-widgets/base",
       "_model_module_version": "1.2.0",
       "_model_name": "LayoutModel",
       "_view_count": null,
       "_view_module": "@jupyter-widgets/base",
       "_view_module_version": "1.2.0",
       "_view_name": "LayoutView",
       "align_content": null,
       "align_items": null,
       "align_self": null,
       "border": null,
       "bottom": null,
       "display": null,
       "flex": null,
       "flex_flow": null,
       "grid_area": null,
       "grid_auto_columns": null,
       "grid_auto_flow": null,
       "grid_auto_rows": null,
       "grid_column": null,
       "grid_gap": null,
       "grid_row": null,
       "grid_template_areas": null,
       "grid_template_columns": null,
       "grid_template_rows": null,
       "height": null,
       "justify_content": null,
       "justify_items": null,
       "left": null,
       "margin": null,
       "max_height": null,
       "max_width": null,
       "min_height": null,
       "min_width": null,
       "object_fit": null,
       "object_position": null,
       "order": null,
       "overflow": null,
       "overflow_x": null,
       "overflow_y": null,
       "padding": null,
       "right": null,
       "top": null,
       "visibility": null,
       "width": null
      }
     },
     "c6d84c7d47eb44d4a844e3227c6b07eb": {
      "model_module": "@jupyter-widgets/base",
      "model_module_version": "1.2.0",
      "model_name": "LayoutModel",
      "state": {
       "_model_module": "@jupyter-widgets/base",
       "_model_module_version": "1.2.0",
       "_model_name": "LayoutModel",
       "_view_count": null,
       "_view_module": "@jupyter-widgets/base",
       "_view_module_version": "1.2.0",
       "_view_name": "LayoutView",
       "align_content": null,
       "align_items": null,
       "align_self": null,
       "border": null,
       "bottom": null,
       "display": null,
       "flex": null,
       "flex_flow": null,
       "grid_area": null,
       "grid_auto_columns": null,
       "grid_auto_flow": null,
       "grid_auto_rows": null,
       "grid_column": null,
       "grid_gap": null,
       "grid_row": null,
       "grid_template_areas": null,
       "grid_template_columns": null,
       "grid_template_rows": null,
       "height": null,
       "justify_content": null,
       "justify_items": null,
       "left": null,
       "margin": null,
       "max_height": null,
       "max_width": null,
       "min_height": null,
       "min_width": null,
       "object_fit": null,
       "object_position": null,
       "order": null,
       "overflow": null,
       "overflow_x": null,
       "overflow_y": null,
       "padding": null,
       "right": null,
       "top": null,
       "visibility": null,
       "width": null
      }
     },
     "d1698fd8fa7346fea790910ed9b42022": {
      "model_module": "@jupyter-widgets/controls",
      "model_module_version": "1.5.0",
      "model_name": "DescriptionStyleModel",
      "state": {
       "_model_module": "@jupyter-widgets/controls",
       "_model_module_version": "1.5.0",
       "_model_name": "DescriptionStyleModel",
       "_view_count": null,
       "_view_module": "@jupyter-widgets/base",
       "_view_module_version": "1.2.0",
       "_view_name": "StyleView",
       "description_width": ""
      }
     },
     "d5112bb0a9c34c1a8983bbb72397caea": {
      "model_module": "@jupyter-widgets/controls",
      "model_module_version": "1.5.0",
      "model_name": "HTMLModel",
      "state": {
       "_dom_classes": [],
       "_model_module": "@jupyter-widgets/controls",
       "_model_module_version": "1.5.0",
       "_model_name": "HTMLModel",
       "_view_count": null,
       "_view_module": "@jupyter-widgets/controls",
       "_view_module_version": "1.5.0",
       "_view_name": "HTMLView",
       "description": "",
       "description_tooltip": null,
       "layout": "IPY_MODEL_c44e5c21ddbb4fb2900d81fe14a69bd1",
       "placeholder": "​",
       "style": "IPY_MODEL_241fd619ed3e4c4e84e99f39b9c3e165",
       "value": "Downloading config.json: 100%"
      }
     },
     "de4cc34abc3c40eda6bd962c5a6771e9": {
      "model_module": "@jupyter-widgets/base",
      "model_module_version": "1.2.0",
      "model_name": "LayoutModel",
      "state": {
       "_model_module": "@jupyter-widgets/base",
       "_model_module_version": "1.2.0",
       "_model_name": "LayoutModel",
       "_view_count": null,
       "_view_module": "@jupyter-widgets/base",
       "_view_module_version": "1.2.0",
       "_view_name": "LayoutView",
       "align_content": null,
       "align_items": null,
       "align_self": null,
       "border": null,
       "bottom": null,
       "display": null,
       "flex": null,
       "flex_flow": null,
       "grid_area": null,
       "grid_auto_columns": null,
       "grid_auto_flow": null,
       "grid_auto_rows": null,
       "grid_column": null,
       "grid_gap": null,
       "grid_row": null,
       "grid_template_areas": null,
       "grid_template_columns": null,
       "grid_template_rows": null,
       "height": null,
       "justify_content": null,
       "justify_items": null,
       "left": null,
       "margin": null,
       "max_height": null,
       "max_width": null,
       "min_height": null,
       "min_width": null,
       "object_fit": null,
       "object_position": null,
       "order": null,
       "overflow": null,
       "overflow_x": null,
       "overflow_y": null,
       "padding": null,
       "right": null,
       "top": null,
       "visibility": null,
       "width": null
      }
     },
     "e4d7280d2d9e43b59289ac3cfa675003": {
      "model_module": "@jupyter-widgets/controls",
      "model_module_version": "1.5.0",
      "model_name": "ProgressStyleModel",
      "state": {
       "_model_module": "@jupyter-widgets/controls",
       "_model_module_version": "1.5.0",
       "_model_name": "ProgressStyleModel",
       "_view_count": null,
       "_view_module": "@jupyter-widgets/base",
       "_view_module_version": "1.2.0",
       "_view_name": "StyleView",
       "bar_color": null,
       "description_width": ""
      }
     },
     "e855dc5e53ae4e27a24fcf5de4c0434e": {
      "model_module": "@jupyter-widgets/controls",
      "model_module_version": "1.5.0",
      "model_name": "DescriptionStyleModel",
      "state": {
       "_model_module": "@jupyter-widgets/controls",
       "_model_module_version": "1.5.0",
       "_model_name": "DescriptionStyleModel",
       "_view_count": null,
       "_view_module": "@jupyter-widgets/base",
       "_view_module_version": "1.2.0",
       "_view_name": "StyleView",
       "description_width": ""
      }
     },
     "ec2f4f268c534e3bbf36bf1ed650381f": {
      "model_module": "@jupyter-widgets/base",
      "model_module_version": "1.2.0",
      "model_name": "LayoutModel",
      "state": {
       "_model_module": "@jupyter-widgets/base",
       "_model_module_version": "1.2.0",
       "_model_name": "LayoutModel",
       "_view_count": null,
       "_view_module": "@jupyter-widgets/base",
       "_view_module_version": "1.2.0",
       "_view_name": "LayoutView",
       "align_content": null,
       "align_items": null,
       "align_self": null,
       "border": null,
       "bottom": null,
       "display": null,
       "flex": null,
       "flex_flow": null,
       "grid_area": null,
       "grid_auto_columns": null,
       "grid_auto_flow": null,
       "grid_auto_rows": null,
       "grid_column": null,
       "grid_gap": null,
       "grid_row": null,
       "grid_template_areas": null,
       "grid_template_columns": null,
       "grid_template_rows": null,
       "height": null,
       "justify_content": null,
       "justify_items": null,
       "left": null,
       "margin": null,
       "max_height": null,
       "max_width": null,
       "min_height": null,
       "min_width": null,
       "object_fit": null,
       "object_position": null,
       "order": null,
       "overflow": null,
       "overflow_x": null,
       "overflow_y": null,
       "padding": null,
       "right": null,
       "top": null,
       "visibility": null,
       "width": null
      }
     },
     "ef057eea93f24deea437fd73331863b2": {
      "model_module": "@jupyter-widgets/controls",
      "model_module_version": "1.5.0",
      "model_name": "DescriptionStyleModel",
      "state": {
       "_model_module": "@jupyter-widgets/controls",
       "_model_module_version": "1.5.0",
       "_model_name": "DescriptionStyleModel",
       "_view_count": null,
       "_view_module": "@jupyter-widgets/base",
       "_view_module_version": "1.2.0",
       "_view_name": "StyleView",
       "description_width": ""
      }
     },
     "ef9d39ba78cb4210ade34c41692144fa": {
      "model_module": "@jupyter-widgets/base",
      "model_module_version": "1.2.0",
      "model_name": "LayoutModel",
      "state": {
       "_model_module": "@jupyter-widgets/base",
       "_model_module_version": "1.2.0",
       "_model_name": "LayoutModel",
       "_view_count": null,
       "_view_module": "@jupyter-widgets/base",
       "_view_module_version": "1.2.0",
       "_view_name": "LayoutView",
       "align_content": null,
       "align_items": null,
       "align_self": null,
       "border": null,
       "bottom": null,
       "display": null,
       "flex": null,
       "flex_flow": null,
       "grid_area": null,
       "grid_auto_columns": null,
       "grid_auto_flow": null,
       "grid_auto_rows": null,
       "grid_column": null,
       "grid_gap": null,
       "grid_row": null,
       "grid_template_areas": null,
       "grid_template_columns": null,
       "grid_template_rows": null,
       "height": null,
       "justify_content": null,
       "justify_items": null,
       "left": null,
       "margin": null,
       "max_height": null,
       "max_width": null,
       "min_height": null,
       "min_width": null,
       "object_fit": null,
       "object_position": null,
       "order": null,
       "overflow": null,
       "overflow_x": null,
       "overflow_y": null,
       "padding": null,
       "right": null,
       "top": null,
       "visibility": null,
       "width": null
      }
     }
    },
    "version_major": 2,
    "version_minor": 0
   }
  }
 },
 "nbformat": 4,
 "nbformat_minor": 5
}
